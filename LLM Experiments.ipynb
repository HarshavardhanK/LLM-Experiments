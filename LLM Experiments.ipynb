{
 "cells": [
  {
   "cell_type": "code",
   "execution_count": null,
   "id": "a2f6262f",
   "metadata": {},
   "outputs": [],
   "source": [
    "from llama_index.llms import Ollama, PaLM\n",
    "\n",
    "from llama_index import ServiceContext\n",
    "\n",
    "from langchain.callbacks.manager import CallbackManager\n",
    "from langchain.callbacks.streaming_stdout import StreamingStdOutCallbackHandler\n",
    "\n",
    "from llama_index import VectorStoreIndex, SimpleDirectoryReader\n",
    "\n",
    "from llama_index.llms import LangChainLLM"
   ]
  },
  {
   "cell_type": "code",
   "execution_count": null,
   "id": "72b29e8e",
   "metadata": {},
   "outputs": [],
   "source": [
    "llm = Ollama(model='llama2')"
   ]
  },
  {
   "cell_type": "code",
   "execution_count": null,
   "id": "e6b0900c",
   "metadata": {},
   "outputs": [],
   "source": [
    "type(llm)\n"
   ]
  },
  {
   "cell_type": "code",
   "execution_count": null,
   "id": "8e975f5f",
   "metadata": {},
   "outputs": [],
   "source": [
    "from langchain.callbacks.manager import CallbackManager\n",
    "from langchain.callbacks.streaming_stdout import StreamingStdOutCallbackHandler\n",
    "from langchain.llms import Ollama\n",
    "\n",
    "llm = Ollama(\n",
    "    model=\"llama2\")"
   ]
  },
  {
   "cell_type": "code",
   "execution_count": null,
   "id": "b6838fe6",
   "metadata": {},
   "outputs": [],
   "source": [
    "llm = LangChainLLM(llm=llm)"
   ]
  },
  {
   "cell_type": "code",
   "execution_count": null,
   "id": "e2f0fb56",
   "metadata": {},
   "outputs": [],
   "source": [
    "type(llm)\n",
    "resp = llm.complete(\"Who is Paul Graham?\")"
   ]
  },
  {
   "cell_type": "code",
   "execution_count": null,
   "id": "4ccd0424",
   "metadata": {},
   "outputs": [],
   "source": [
    "resp"
   ]
  },
  {
   "cell_type": "code",
   "execution_count": null,
   "id": "6bfe0024",
   "metadata": {},
   "outputs": [],
   "source": [
    "service_context = ServiceContext.from_defaults(llm=llm)"
   ]
  },
  {
   "cell_type": "code",
   "execution_count": null,
   "id": "9e2ec420",
   "metadata": {},
   "outputs": [],
   "source": [
    "documents = SimpleDirectoryReader(\"data\").load_data()\n",
    "index = VectorStoreIndex.from_documents(documents)\n",
    "\n",
    "query_engine = index.as_query_engine(service_context=service_context)\n",
    "response = query_engine.query(\"What did the author do growing up?\")\n",
    "print(response)\n",
    "\n",
    "import logging\n",
    "import sys\n",
    "\n",
    "logging.basicConfig(stream=sys.stdout, level=logging.DEBUG)\n",
    "logging.getLogger().addHandler(logging.StreamHandler(stream=sys.stdout))"
   ]
  },
  {
   "cell_type": "code",
   "execution_count": null,
   "id": "cffe9a90",
   "metadata": {},
   "outputs": [],
   "source": [
    "from llama_index import ListIndex, SimpleDirectoryReader\n",
    "from langchain.embeddings.huggingface import HuggingFaceEmbeddings\n",
    "from llama_index import LangchainEmbedding, ServiceContext\n",
    "\n",
    "# load in HF embedding model from langchain\n",
    "embed_model = LangchainEmbedding(HuggingFaceEmbeddings())\n",
    "service_context = ServiceContext.from_defaults(embed_model=embed_model)\n",
    "\n",
    "# build index\n",
    "documents = SimpleDirectoryReader('data').load_data()\n",
    "new_index = ListIndex.from_documents(documents)\n",
    "\n",
    "# query with embed_model specified\n",
    "query_engine = new_index.as_query_engine(\n",
    "    retriever_mode=\"embedding\", \n",
    "    verbose=True, \n",
    "    service_context=service_context\n",
    ")\n",
    "response = query_engine.query(\"<query_text>\")\n",
    "print(response)"
   ]
  },
  {
   "cell_type": "code",
   "execution_count": null,
   "metadata": {},
   "outputs": [],
   "source": [
    "from llama_index.embeddings import HuggingFaceEmbedding\n",
    "\n",
    "embed_model = HuggingFaceEmbedding(model_name=\"meta-llama/Llama-2-7b-chat-hf\")\n",
    "embeddings = embed_model.get_text_embedding(\"Hello World!\")\n",
    "print(len(embeddings))\n",
    "print(embeddings[:5])"
   ]
  },
  {
   "cell_type": "code",
   "execution_count": null,
   "metadata": {},
   "outputs": [],
   "source": [
    "from llama_index import ServiceContext\n",
    "\n",
    "service_context = ServiceContext.from_defaults(embed_model=\"local\")"
   ]
  },
  {
   "cell_type": "code",
   "execution_count": null,
   "metadata": {},
   "outputs": [],
   "source": [
    "from langchain.embeddings import OllamaEmbeddings\n",
    "embeddings = OllamaEmbeddings()\n",
    "text = \"This is a test document.\"\n",
    "query_result = embeddings.embed_query(text)\n",
    "query_result[:5]"
   ]
  },
  {
   "cell_type": "code",
   "execution_count": null,
   "metadata": {},
   "outputs": [],
   "source": [
    "from langchain.embeddings import HuggingFaceEmbeddings\n",
    "from llama_index import ServiceContext, set_global_service_context\n",
    "\n",
    "from llama_index.embeddings import OpenAIEmbedding\n",
    "embed_model = OpenAIEmbedding()\n",
    "\n",
    "'''embed_model = HuggingFaceEmbeddings(\n",
    "    model_name=\"Xenova/text-embedding-ada-002\"\n",
    ")'''\n",
    "\n",
    "\n",
    "service_context = ServiceContext.from_defaults(embed_model=embed_model, llm=llm)\n",
    "\n",
    "# optionally set a global service context\n",
    "set_global_service_context(service_context)"
   ]
  },
  {
   "cell_type": "code",
   "execution_count": null,
   "metadata": {},
   "outputs": [],
   "source": [
    "documents = SimpleDirectoryReader(\"data\").load_data()\n",
    "index = VectorStoreIndex.from_documents(documents)\n",
    "\n",
    "query_engine = index.as_query_engine(service_context=service_context)"
   ]
  },
  {
   "cell_type": "code",
   "execution_count": null,
   "metadata": {},
   "outputs": [],
   "source": [
    "response = query_engine.query(\"What is this essay about?\")\n",
    "print(response)"
   ]
  },
  {
   "cell_type": "code",
   "execution_count": null,
   "metadata": {},
   "outputs": [],
   "source": [
    "from llama_index import VectorStoreIndex, SimpleDirectoryReader\n",
    "from llama_index.embeddings import OpenAIEmbedding\n",
    "from llama_index import ServiceContext, set_global_service_context\n",
    "\n",
    "from langchain.llms import Ollama\n",
    "\n",
    "llm = Ollama(model=\"llama2\")\n",
    "\n",
    "embed_model = OpenAIEmbedding()\n",
    "\n",
    "service_context = ServiceContext.from_defaults(embed_model=embed_model, llm=llm)\n",
    "\n",
    "# optionally set a global service context\n",
    "set_global_service_context(service_context)\n",
    "\n",
    "documents = SimpleDirectoryReader(\"data\").load_data()\n",
    "index = VectorStoreIndex.from_documents(documents)\n",
    "\n",
    "query_engine = index.as_query_engine(service_context=service_context)\n",
    "response = query_engine.query(\"When does Harsha wants to go to Manaslu?\")\n",
    "print(response)\n",
    "\n",
    "import logging\n",
    "import sys\n",
    "\n",
    "logging.basicConfig(stream=sys.stdout, level=logging.DEBUG)\n",
    "logging.getLogger().addHandler(logging.StreamHandler(stream=sys.stdout))"
   ]
  },
  {
   "cell_type": "code",
   "execution_count": 46,
   "metadata": {},
   "outputs": [
    {
     "name": "stdout",
     "output_type": "stream",
     "text": [
      "DEBUG:urllib3.connectionpool:https://app.posthog.com:443 \"POST /batch/ HTTP/1.1\" 200 None\n",
      "https://app.posthog.com:443 \"POST /batch/ HTTP/1.1\" 200 None\n",
      "https://app.posthog.com:443 \"POST /batch/ HTTP/1.1\" 200 None\n"
     ]
    }
   ],
   "source": [
    "import chromadb\n",
    "from llama_index.vector_stores import ChromaVectorStore\n",
    "from llama_index.storage.storage_context import StorageContext\n",
    "# load from disk\n",
    "db2 = chromadb.PersistentClient(path=\"./chroma_db\")\n",
    "chroma_collection = db2.get_or_create_collection(\"quickstart\")"
   ]
  },
  {
   "cell_type": "code",
   "execution_count": 53,
   "metadata": {},
   "outputs": [],
   "source": [
    "llm = Ollama(model=\"llama2\")\n",
    "embed_model = OllamaEmbeddings(base_url=\"http://localhost:11434\", model=\"llama2\")"
   ]
  },
  {
   "cell_type": "code",
   "execution_count": 48,
   "metadata": {},
   "outputs": [],
   "source": [
    "vector_store = ChromaVectorStore(chroma_collection=chroma_collection)\n",
    "storage_context = StorageContext.from_defaults(vector_store=vector_store)\n",
    "service_context = ServiceContext.from_defaults(embed_model=embed_model, llm=llm)"
   ]
  },
  {
   "cell_type": "code",
   "execution_count": 49,
   "metadata": {},
   "outputs": [],
   "source": [
    "vector_store = ChromaVectorStore(chroma_collection=chroma_collection)\n",
    "index = VectorStoreIndex.from_vector_store(\n",
    "    vector_store,\n",
    "    service_context=service_context,\n",
    ")"
   ]
  },
  {
   "cell_type": "code",
   "execution_count": 57,
   "metadata": {},
   "outputs": [
    {
     "name": "stdout",
     "output_type": "stream",
     "text": [
      "DEBUG:urllib3.connectionpool:https://app.posthog.com:443 \"POST /batch/ HTTP/1.1\" 200 None\n",
      "https://app.posthog.com:443 \"POST /batch/ HTTP/1.1\" 200 None\n",
      "https://app.posthog.com:443 \"POST /batch/ HTTP/1.1\" 200 None\n"
     ]
    }
   ],
   "source": [
    "# load from disk\n",
    "db2 = chromadb.PersistentClient(path=\"./chroma_db\")\n",
    "chroma_collection = db2.get_or_create_collection(\"quickstart\")\n",
    "\n",
    "vector_store = ChromaVectorStore(chroma_collection=chroma_collection)\n",
    "index = VectorStoreIndex.from_vector_store(\n",
    "    vector_store,\n",
    "    service_context=service_context,\n",
    ")"
   ]
  },
  {
   "cell_type": "code",
   "execution_count": 58,
   "metadata": {},
   "outputs": [],
   "source": [
    "query_engine = index.as_query_engine()"
   ]
  },
  {
   "cell_type": "code",
   "execution_count": 59,
   "metadata": {},
   "outputs": [
    {
     "name": "stdout",
     "output_type": "stream",
     "text": [
      "DEBUG:urllib3.connectionpool:Starting new HTTP connection (1): localhost:11434\n",
      "Starting new HTTP connection (1): localhost:11434\n",
      "Starting new HTTP connection (1): localhost:11434\n",
      "DEBUG:urllib3.connectionpool:http://localhost:11434 \"POST /api/embeddings HTTP/1.1\" 200 None\n",
      "http://localhost:11434 \"POST /api/embeddings HTTP/1.1\" 200 None\n",
      "http://localhost:11434 \"POST /api/embeddings HTTP/1.1\" 200 None\n",
      "DEBUG:llama_index.vector_stores.chroma:> Top 1 nodes:\n",
      "> Top 1 nodes:\n",
      "> Top 1 nodes:\n",
      "DEBUG:llama_index.vector_stores.chroma:> [Node 4ab55a27-3868-4ca8-a493-1f03ec359d76] [Similarity score: 0.0] A Watermark for Large Language Models.\n",
      "Wilson, A., Blunsom, P., and Ker, A. D. Linguis-\n",
      "tic stega...\n",
      "> [Node 4ab55a27-3868-4ca8-a493-1f03ec359d76] [Similarity score: 0.0] A Watermark for Large Language Models.\n",
      "Wilson, A., Blunsom, P., and Ker, A. D. Linguis-\n",
      "tic stega...\n",
      "> [Node 4ab55a27-3868-4ca8-a493-1f03ec359d76] [Similarity score: 0.0] A Watermark for Large Language Models.\n",
      "Wilson, A., Blunsom, P., and Ker, A. D. Linguis-\n",
      "tic stega...\n",
      "DEBUG:llama_index.vector_stores.chroma:> [Node 67d12342-c9c1-4c34-8991-a798946b36e7] [Similarity score: 0.0] Harsha is a brilliant software engineer and he loves to trek in the Himalayas. \n",
      "His trek to Hampt...\n",
      "> [Node 67d12342-c9c1-4c34-8991-a798946b36e7] [Similarity score: 0.0] Harsha is a brilliant software engineer and he loves to trek in the Himalayas. \n",
      "His trek to Hampt...\n",
      "> [Node 67d12342-c9c1-4c34-8991-a798946b36e7] [Similarity score: 0.0] Harsha is a brilliant software engineer and he loves to trek in the Himalayas. \n",
      "His trek to Hampt...\n",
      "DEBUG:llama_index.indices.utils:> Top 2 nodes:\n",
      "> [Node 4ab55a27-3868-4ca8-a493-1f03ec359d76] [Similarity score:             0.0] A Watermark for Large Language Models.\n",
      "Wilson, A., Blunsom, P., and Ker, A. D. Linguis-\n",
      "tic stega...\n",
      "> [Node 67d12342-c9c1-4c34-8991-a798946b36e7] [Similarity score:             0.0] Harsha is a brilliant software engineer and he loves to trek in the Himalayas. \n",
      "His trek to Hampt...\n",
      "> Top 2 nodes:\n",
      "> [Node 4ab55a27-3868-4ca8-a493-1f03ec359d76] [Similarity score:             0.0] A Watermark for Large Language Models.\n",
      "Wilson, A., Blunsom, P., and Ker, A. D. Linguis-\n",
      "tic stega...\n",
      "> [Node 67d12342-c9c1-4c34-8991-a798946b36e7] [Similarity score:             0.0] Harsha is a brilliant software engineer and he loves to trek in the Himalayas. \n",
      "His trek to Hampt...\n",
      "> Top 2 nodes:\n",
      "> [Node 4ab55a27-3868-4ca8-a493-1f03ec359d76] [Similarity score:             0.0] A Watermark for Large Language Models.\n",
      "Wilson, A., Blunsom, P., and Ker, A. D. Linguis-\n",
      "tic stega...\n",
      "> [Node 67d12342-c9c1-4c34-8991-a798946b36e7] [Similarity score:             0.0] Harsha is a brilliant software engineer and he loves to trek in the Himalayas. \n",
      "His trek to Hampt...\n",
      "DEBUG:llama_index.llm_predictor.base:Context information is below.\n",
      "---------------------\n",
      "page_label: 17\n",
      "file_path: data/A Watermark for Large Language Models.pdf\n",
      "\n",
      "A Watermark for Large Language Models.\n",
      "Wilson, A., Blunsom, P., and Ker, A. D. Linguis-\n",
      "tic steganography on Twitter: Hierarchical lan-\n",
      "guage modeling with manual interaction. In Me-\n",
      "dia Watermarking, Security, and Forensics 2014 ,\n",
      "volume 9028, pp. 9–25. SPIE, February 2014.\n",
      "doi: 10.1117/12.2039213. URL https://www.\n",
      "spiedigitallibrary.org/conference-\n",
      "proceedings-of-spie/9028/902803/\n",
      "Linguistic-steganography-on-Twitter--\n",
      "hierarchical-language-modeling-with-\n",
      "manual/10.1117/12.2039213.full .\n",
      "Wolf, T., Debut, L., Sanh, V ., Chaumond, J., Delangue,\n",
      "C., Moi, A., Cistac, P., Rault, T., Louf, R., Funtow-\n",
      "icz, M., Davison, J., Shleifer, S., von Platen, P., Ma,\n",
      "C., Jernite, Y ., Plu, J., Xu, C., Scao, T. L., Gugger,\n",
      "S., Drame, M., Lhoest, Q., and Rush, A. M. Hugging-\n",
      "Face’s Transformers: State-of-the-art Natural Language\n",
      "Processing. arXiv:1910.03771 [cs] , July 2020. URL\n",
      "http://arxiv.org/abs/1910.03771 .\n",
      "Wolff, M. and Wolff, S. Attacking Neural Text Detectors.\n",
      "arxiv:2002.11768[cs] , January 2022. doi: 10.48550/\n",
      "arXiv.2002.11768. URL http://arxiv.org/abs/\n",
      "2002.11768 .\n",
      "Zellers, R., Holtzman, A., Rashkin, H., Bisk, Y ., Farhadi,\n",
      "A., Roesner, F., and Choi, Y . Defending Against Neural\n",
      "Fake News. In Advances in Neural Information Pro-\n",
      "cessing Systems , volume 32. Curran Associates,\n",
      "Inc., 2019. URL https://proceedings.\n",
      "neurips.cc/paper/2019/hash/\n",
      "3e9f0fc9b2f89e043bc6233994dfcf76-\n",
      "Abstract.html .\n",
      "Zhang, S., Roller, S., Goyal, N., Artetxe, M., Chen, M.,\n",
      "Chen, S., Dewan, C., Diab, M., Li, X., Lin, X. V ., Mi-\n",
      "haylov, T., Ott, M., Shleifer, S., Shuster, K., Simig, D.,\n",
      "Koura, P. S., Sridhar, A., Wang, T., and Zettlemoyer,\n",
      "L. Opt: Open pre-trained transformer language models,\n",
      "2022.\n",
      "Zhu, J., Kaplan, R., Johnson, J., and Fei-Fei, L.\n",
      "HiDDeN: Hiding Data with Deep Networks. In\n",
      "Proceedings of the European Conference on Computer\n",
      "Vision (ECCV) , pp. 657–672, 2018. URL https:\n",
      "//openaccess.thecvf.com/content_ECCV_\n",
      "2018/html/Jiren_Zhu_HiDDeN_Hiding_\n",
      "Data_ECCV_2018_paper.html .\n",
      "Ziegler, Z., Deng, Y ., and Rush, A. Neural Linguistic\n",
      "Steganography. In Proceedings of the 2019 Conference\n",
      "on Empirical Methods in Natural Language Processing\n",
      "and the 9th International Joint Conference on Natural\n",
      "Language Processing (EMNLP-IJCNLP) , pp. 1210–1215,\n",
      "Hong Kong, China, November 2019. Association forComputational Linguistics. doi: 10.18653/v1/D19-1115.\n",
      "URL https://aclanthology.org/D19-1115 .\n",
      "\n",
      "file_path: data/harsha.txt\n",
      "\n",
      "Harsha is a brilliant software engineer and he loves to trek in the Himalayas. \n",
      "His trek to Hampta Pass was canceled due to heavy floods in Manali\n",
      "His recent adventure to Kedarkantha was transformative and he plans to go to Manaslu circuit in 2027.\n",
      "\n",
      "Harsha was seeing the Watermarking algorithm in his trip to Manali. \n",
      "A shopkeeper asked him to explain what was Kirchenbauer's Z score hypothesis for hard watermarking.\n",
      "---------------------\n",
      "Given the context information and not prior knowledge, answer the query.\n",
      "Query: What does the algoroithm introduced by Kirchenbauer do?\n",
      "Answer: \n",
      "Context information is below.\n",
      "---------------------\n",
      "page_label: 17\n",
      "file_path: data/A Watermark for Large Language Models.pdf\n",
      "\n",
      "A Watermark for Large Language Models.\n",
      "Wilson, A., Blunsom, P., and Ker, A. D. Linguis-\n",
      "tic steganography on Twitter: Hierarchical lan-\n",
      "guage modeling with manual interaction. In Me-\n",
      "dia Watermarking, Security, and Forensics 2014 ,\n",
      "volume 9028, pp. 9–25. SPIE, February 2014.\n",
      "doi: 10.1117/12.2039213. URL https://www.\n",
      "spiedigitallibrary.org/conference-\n",
      "proceedings-of-spie/9028/902803/\n",
      "Linguistic-steganography-on-Twitter--\n",
      "hierarchical-language-modeling-with-\n",
      "manual/10.1117/12.2039213.full .\n",
      "Wolf, T., Debut, L., Sanh, V ., Chaumond, J., Delangue,\n",
      "C., Moi, A., Cistac, P., Rault, T., Louf, R., Funtow-\n",
      "icz, M., Davison, J., Shleifer, S., von Platen, P., Ma,\n",
      "C., Jernite, Y ., Plu, J., Xu, C., Scao, T. L., Gugger,\n",
      "S., Drame, M., Lhoest, Q., and Rush, A. M. Hugging-\n",
      "Face’s Transformers: State-of-the-art Natural Language\n",
      "Processing. arXiv:1910.03771 [cs] , July 2020. URL\n",
      "http://arxiv.org/abs/1910.03771 .\n",
      "Wolff, M. and Wolff, S. Attacking Neural Text Detectors.\n",
      "arxiv:2002.11768[cs] , January 2022. doi: 10.48550/\n",
      "arXiv.2002.11768. URL http://arxiv.org/abs/\n",
      "2002.11768 .\n",
      "Zellers, R., Holtzman, A., Rashkin, H., Bisk, Y ., Farhadi,\n",
      "A., Roesner, F., and Choi, Y . Defending Against Neural\n",
      "Fake News. In Advances in Neural Information Pro-\n",
      "cessing Systems , volume 32. Curran Associates,\n",
      "Inc., 2019. URL https://proceedings.\n",
      "neurips.cc/paper/2019/hash/\n",
      "3e9f0fc9b2f89e043bc6233994dfcf76-\n",
      "Abstract.html .\n",
      "Zhang, S., Roller, S., Goyal, N., Artetxe, M., Chen, M.,\n",
      "Chen, S., Dewan, C., Diab, M., Li, X., Lin, X. V ., Mi-\n",
      "haylov, T., Ott, M., Shleifer, S., Shuster, K., Simig, D.,\n",
      "Koura, P. S., Sridhar, A., Wang, T., and Zettlemoyer,\n",
      "L. Opt: Open pre-trained transformer language models,\n",
      "2022.\n",
      "Zhu, J., Kaplan, R., Johnson, J., and Fei-Fei, L.\n",
      "HiDDeN: Hiding Data with Deep Networks. In\n",
      "Proceedings of the European Conference on Computer\n",
      "Vision (ECCV) , pp. 657–672, 2018. URL https:\n",
      "//openaccess.thecvf.com/content_ECCV_\n",
      "2018/html/Jiren_Zhu_HiDDeN_Hiding_\n",
      "Data_ECCV_2018_paper.html .\n",
      "Ziegler, Z., Deng, Y ., and Rush, A. Neural Linguistic\n",
      "Steganography. In Proceedings of the 2019 Conference\n",
      "on Empirical Methods in Natural Language Processing\n",
      "and the 9th International Joint Conference on Natural\n",
      "Language Processing (EMNLP-IJCNLP) , pp. 1210–1215,\n",
      "Hong Kong, China, November 2019. Association forComputational Linguistics. doi: 10.18653/v1/D19-1115.\n",
      "URL https://aclanthology.org/D19-1115 .\n",
      "\n",
      "file_path: data/harsha.txt\n",
      "\n",
      "Harsha is a brilliant software engineer and he loves to trek in the Himalayas. \n",
      "His trek to Hampta Pass was canceled due to heavy floods in Manali\n",
      "His recent adventure to Kedarkantha was transformative and he plans to go to Manaslu circuit in 2027.\n",
      "\n",
      "Harsha was seeing the Watermarking algorithm in his trip to Manali. \n",
      "A shopkeeper asked him to explain what was Kirchenbauer's Z score hypothesis for hard watermarking.\n",
      "---------------------\n",
      "Given the context information and not prior knowledge, answer the query.\n",
      "Query: What does the algoroithm introduced by Kirchenbauer do?\n",
      "Answer: \n",
      "Context information is below.\n",
      "---------------------\n",
      "page_label: 17\n",
      "file_path: data/A Watermark for Large Language Models.pdf\n",
      "\n",
      "A Watermark for Large Language Models.\n",
      "Wilson, A., Blunsom, P., and Ker, A. D. Linguis-\n",
      "tic steganography on Twitter: Hierarchical lan-\n",
      "guage modeling with manual interaction. In Me-\n",
      "dia Watermarking, Security, and Forensics 2014 ,\n",
      "volume 9028, pp. 9–25. SPIE, February 2014.\n",
      "doi: 10.1117/12.2039213. URL https://www.\n",
      "spiedigitallibrary.org/conference-\n",
      "proceedings-of-spie/9028/902803/\n",
      "Linguistic-steganography-on-Twitter--\n",
      "hierarchical-language-modeling-with-\n",
      "manual/10.1117/12.2039213.full .\n",
      "Wolf, T., Debut, L., Sanh, V ., Chaumond, J., Delangue,\n",
      "C., Moi, A., Cistac, P., Rault, T., Louf, R., Funtow-\n",
      "icz, M., Davison, J., Shleifer, S., von Platen, P., Ma,\n",
      "C., Jernite, Y ., Plu, J., Xu, C., Scao, T. L., Gugger,\n",
      "S., Drame, M., Lhoest, Q., and Rush, A. M. Hugging-\n",
      "Face’s Transformers: State-of-the-art Natural Language\n",
      "Processing. arXiv:1910.03771 [cs] , July 2020. URL\n",
      "http://arxiv.org/abs/1910.03771 .\n",
      "Wolff, M. and Wolff, S. Attacking Neural Text Detectors.\n",
      "arxiv:2002.11768[cs] , January 2022. doi: 10.48550/\n",
      "arXiv.2002.11768. URL http://arxiv.org/abs/\n",
      "2002.11768 .\n",
      "Zellers, R., Holtzman, A., Rashkin, H., Bisk, Y ., Farhadi,\n",
      "A., Roesner, F., and Choi, Y . Defending Against Neural\n",
      "Fake News. In Advances in Neural Information Pro-\n",
      "cessing Systems , volume 32. Curran Associates,\n",
      "Inc., 2019. URL https://proceedings.\n",
      "neurips.cc/paper/2019/hash/\n",
      "3e9f0fc9b2f89e043bc6233994dfcf76-\n",
      "Abstract.html .\n",
      "Zhang, S., Roller, S., Goyal, N., Artetxe, M., Chen, M.,\n",
      "Chen, S., Dewan, C., Diab, M., Li, X., Lin, X. V ., Mi-\n",
      "haylov, T., Ott, M., Shleifer, S., Shuster, K., Simig, D.,\n",
      "Koura, P. S., Sridhar, A., Wang, T., and Zettlemoyer,\n",
      "L. Opt: Open pre-trained transformer language models,\n",
      "2022.\n",
      "Zhu, J., Kaplan, R., Johnson, J., and Fei-Fei, L.\n",
      "HiDDeN: Hiding Data with Deep Networks. In\n",
      "Proceedings of the European Conference on Computer\n",
      "Vision (ECCV) , pp. 657–672, 2018. URL https:\n",
      "//openaccess.thecvf.com/content_ECCV_\n",
      "2018/html/Jiren_Zhu_HiDDeN_Hiding_\n",
      "Data_ECCV_2018_paper.html .\n",
      "Ziegler, Z., Deng, Y ., and Rush, A. Neural Linguistic\n",
      "Steganography. In Proceedings of the 2019 Conference\n",
      "on Empirical Methods in Natural Language Processing\n",
      "and the 9th International Joint Conference on Natural\n",
      "Language Processing (EMNLP-IJCNLP) , pp. 1210–1215,\n",
      "Hong Kong, China, November 2019. Association forComputational Linguistics. doi: 10.18653/v1/D19-1115.\n",
      "URL https://aclanthology.org/D19-1115 .\n",
      "\n",
      "file_path: data/harsha.txt\n",
      "\n",
      "Harsha is a brilliant software engineer and he loves to trek in the Himalayas. \n",
      "His trek to Hampta Pass was canceled due to heavy floods in Manali\n",
      "His recent adventure to Kedarkantha was transformative and he plans to go to Manaslu circuit in 2027.\n",
      "\n",
      "Harsha was seeing the Watermarking algorithm in his trip to Manali. \n",
      "A shopkeeper asked him to explain what was Kirchenbauer's Z score hypothesis for hard watermarking.\n",
      "---------------------\n",
      "Given the context information and not prior knowledge, answer the query.\n",
      "Query: What does the algoroithm introduced by Kirchenbauer do?\n",
      "Answer: \n"
     ]
    },
    {
     "data": {
      "text/plain": [
       "Response(response=\"Context information is below.\\n---------------------\\npage_label: 17\\nfile_path: data/A Watermark for Large Language Models.pdf\\n\\nA Watermark for Large Language Models.\\nWilson, A., Blunsom, P., and Ker, A. D. Linguis-\\ntic steganography on Twitter: Hierarchical lan-\\nguage modeling with manual interaction. In Me-\\ndia Watermarking, Security, and Forensics 2014 ,\\nvolume 9028, pp. 9–25. SPIE, February 2014.\\ndoi: 10.1117/12.2039213. URL https://www.\\nspiedigitallibrary.org/conference-\\nproceedings-of-spie/9028/902803/\\nLinguistic-steganography-on-Twitter--\\nhierarchical-language-modeling-with-\\nmanual/10.1117/12.2039213.full .\\nWolf, T., Debut, L., Sanh, V ., Chaumond, J., Delangue,\\nC., Moi, A., Cistac, P., Rault, T., Louf, R., Funtow-\\nicz, M., Davison, J., Shleifer, S., von Platen, P., Ma,\\nC., Jernite, Y ., Plu, J., Xu, C., Scao, T. L., Gugger,\\nS., Drame, M., Lhoest, Q., and Rush, A. M. Hugging-\\nFace’s Transformers: State-of-the-art Natural Language\\nProcessing. arXiv:1910.03771 [cs] , July 2020. URL\\nhttp://arxiv.org/abs/1910.03771 .\\nWolff, M. and Wolff, S. Attacking Neural Text Detectors.\\narxiv:2002.11768[cs] , January 2022. doi: 10.48550/\\narXiv.2002.11768. URL http://arxiv.org/abs/\\n2002.11768 .\\nZellers, R., Holtzman, A., Rashkin, H., Bisk, Y ., Farhadi,\\nA., Roesner, F., and Choi, Y . Defending Against Neural\\nFake News. In Advances in Neural Information Pro-\\ncessing Systems , volume 32. Curran Associates,\\nInc., 2019. URL https://proceedings.\\nneurips.cc/paper/2019/hash/\\n3e9f0fc9b2f89e043bc6233994dfcf76-\\nAbstract.html .\\nZhang, S., Roller, S., Goyal, N., Artetxe, M., Chen, M.,\\nChen, S., Dewan, C., Diab, M., Li, X., Lin, X. V ., Mi-\\nhaylov, T., Ott, M., Shleifer, S., Shuster, K., Simig, D.,\\nKoura, P. S., Sridhar, A., Wang, T., and Zettlemoyer,\\nL. Opt: Open pre-trained transformer language models,\\n2022.\\nZhu, J., Kaplan, R., Johnson, J., and Fei-Fei, L.\\nHiDDeN: Hiding Data with Deep Networks. In\\nProceedings of the European Conference on Computer\\nVision (ECCV) , pp. 657–672, 2018. URL https:\\n//openaccess.thecvf.com/content_ECCV_\\n2018/html/Jiren_Zhu_HiDDeN_Hiding_\\nData_ECCV_2018_paper.html .\\nZiegler, Z., Deng, Y ., and Rush, A. Neural Linguistic\\nSteganography. In Proceedings of the 2019 Conference\\non Empirical Methods in Natural Language Processing\\nand the 9th International Joint Conference on Natural\\nLanguage Processing (EMNLP-IJCNLP) , pp. 1210–1215,\\nHong Kong, China, November 2019. Association forComputational Linguistics. doi: 10.18653/v1/D19-1115.\\nURL https://aclanthology.org/D19-1115 .\\n\\nfile_path: data/harsha.txt\\n\\nHarsha is a brilliant software engineer and he loves to trek in the Himalayas. \\nHis trek to Hampta Pass was canceled due to heavy floods in Manali\\nHis recent adventure to Kedarkantha was transformative and he plans to go to Manaslu circuit in 2027.\\n\\nHarsha was seeing the Watermarking algorithm in his trip to Manali. \\nA shopkeeper asked him to explain what was Kirchenbauer's Z score hypothesis for hard watermarking.\\n---------------------\\nGiven the context information and not prior knowledge, answer the query.\\nQuery: What does the algoroithm introduced by Kirchenbauer do?\\nAnswer: \", source_nodes=[NodeWithScore(node=TextNode(id_='4ab55a27-3868-4ca8-a493-1f03ec359d76', embedding=None, metadata={'page_label': '17', 'file_name': 'A Watermark for Large Language Models.pdf', 'file_path': 'data/A Watermark for Large Language Models.pdf', 'file_type': 'application/pdf', 'file_size': 1472891, 'creation_date': '2023-11-19', 'last_modified_date': '2023-11-04', 'last_accessed_date': '2023-11-19'}, excluded_embed_metadata_keys=['file_name', 'file_type', 'file_size', 'creation_date', 'last_modified_date', 'last_accessed_date'], excluded_llm_metadata_keys=['file_name', 'file_type', 'file_size', 'creation_date', 'last_modified_date', 'last_accessed_date'], relationships={<NodeRelationship.SOURCE: '1'>: RelatedNodeInfo(node_id='e981df77-62e5-4eca-a238-04eaebc7f59c', node_type=<ObjectType.DOCUMENT: '4'>, metadata={'page_label': '17', 'file_name': 'A Watermark for Large Language Models.pdf', 'file_path': 'data/A Watermark for Large Language Models.pdf', 'file_type': 'application/pdf', 'file_size': 1472891, 'creation_date': '2023-11-19', 'last_modified_date': '2023-11-04', 'last_accessed_date': '2023-11-19'}, hash='4adc1f1a5af40dd8d051a5c9c288b50f8f70c339ed1745f2040e61a451baccbc'), <NodeRelationship.PREVIOUS: '2'>: RelatedNodeInfo(node_id='8186207f-6438-4698-abbe-85206b14405d', node_type=<ObjectType.TEXT: '1'>, metadata={'page_label': '16', 'file_name': 'A Watermark for Large Language Models.pdf', 'file_path': 'data/A Watermark for Large Language Models.pdf', 'file_type': 'application/pdf', 'file_size': 1472891, 'creation_date': '2023-11-19', 'last_modified_date': '2023-11-04', 'last_accessed_date': '2023-11-19'}, hash='6486b4e389240224f0279fc098b0b4ff76f13a4a5b85e6745d277f1acd6f85b4'), <NodeRelationship.NEXT: '3'>: RelatedNodeInfo(node_id='eb256452-99a0-4895-853e-4dd09bdce860', node_type=<ObjectType.TEXT: '1'>, metadata={'page_label': '1', 'file_name': 'A Watermark for Large Language Models.pdf', 'file_path': 'data/A Watermark for Large Language Models.pdf', 'file_type': 'application/pdf', 'file_size': 1472891, 'creation_date': '2023-11-19', 'last_modified_date': '2023-11-04', 'last_accessed_date': '2023-11-19'}, hash='d83e8c37cbce95dbf8b98acc68dd4bff666ab84b41bd14fcc0a12ea692a9f500')}, hash='7cd9e710c23598b7fd6971715f5441f2358e32bde9bb5b7d7640b13e150992ef', text='A Watermark for Large Language Models.\\nWilson, A., Blunsom, P., and Ker, A. D. Linguis-\\ntic steganography on Twitter: Hierarchical lan-\\nguage modeling with manual interaction. In Me-\\ndia Watermarking, Security, and Forensics 2014 ,\\nvolume 9028, pp. 9–25. SPIE, February 2014.\\ndoi: 10.1117/12.2039213. URL https://www.\\nspiedigitallibrary.org/conference-\\nproceedings-of-spie/9028/902803/\\nLinguistic-steganography-on-Twitter--\\nhierarchical-language-modeling-with-\\nmanual/10.1117/12.2039213.full .\\nWolf, T., Debut, L., Sanh, V ., Chaumond, J., Delangue,\\nC., Moi, A., Cistac, P., Rault, T., Louf, R., Funtow-\\nicz, M., Davison, J., Shleifer, S., von Platen, P., Ma,\\nC., Jernite, Y ., Plu, J., Xu, C., Scao, T. L., Gugger,\\nS., Drame, M., Lhoest, Q., and Rush, A. M. Hugging-\\nFace’s Transformers: State-of-the-art Natural Language\\nProcessing. arXiv:1910.03771 [cs] , July 2020. URL\\nhttp://arxiv.org/abs/1910.03771 .\\nWolff, M. and Wolff, S. Attacking Neural Text Detectors.\\narxiv:2002.11768[cs] , January 2022. doi: 10.48550/\\narXiv.2002.11768. URL http://arxiv.org/abs/\\n2002.11768 .\\nZellers, R., Holtzman, A., Rashkin, H., Bisk, Y ., Farhadi,\\nA., Roesner, F., and Choi, Y . Defending Against Neural\\nFake News. In Advances in Neural Information Pro-\\ncessing Systems , volume 32. Curran Associates,\\nInc., 2019. URL https://proceedings.\\nneurips.cc/paper/2019/hash/\\n3e9f0fc9b2f89e043bc6233994dfcf76-\\nAbstract.html .\\nZhang, S., Roller, S., Goyal, N., Artetxe, M., Chen, M.,\\nChen, S., Dewan, C., Diab, M., Li, X., Lin, X. V ., Mi-\\nhaylov, T., Ott, M., Shleifer, S., Shuster, K., Simig, D.,\\nKoura, P. S., Sridhar, A., Wang, T., and Zettlemoyer,\\nL. Opt: Open pre-trained transformer language models,\\n2022.\\nZhu, J., Kaplan, R., Johnson, J., and Fei-Fei, L.\\nHiDDeN: Hiding Data with Deep Networks. In\\nProceedings of the European Conference on Computer\\nVision (ECCV) , pp. 657–672, 2018. URL https:\\n//openaccess.thecvf.com/content_ECCV_\\n2018/html/Jiren_Zhu_HiDDeN_Hiding_\\nData_ECCV_2018_paper.html .\\nZiegler, Z., Deng, Y ., and Rush, A. Neural Linguistic\\nSteganography. In Proceedings of the 2019 Conference\\non Empirical Methods in Natural Language Processing\\nand the 9th International Joint Conference on Natural\\nLanguage Processing (EMNLP-IJCNLP) , pp. 1210–1215,\\nHong Kong, China, November 2019. Association forComputational Linguistics. doi: 10.18653/v1/D19-1115.\\nURL https://aclanthology.org/D19-1115 .', start_char_idx=None, end_char_idx=None, text_template='{metadata_str}\\n\\n{content}', metadata_template='{key}: {value}', metadata_seperator='\\n'), score=0.0), NodeWithScore(node=TextNode(id_='67d12342-c9c1-4c34-8991-a798946b36e7', embedding=None, metadata={'file_path': 'data/harsha.txt', 'file_name': 'harsha.txt', 'file_type': 'text/plain', 'file_size': 418, 'creation_date': '2023-11-19', 'last_modified_date': '2023-11-19', 'last_accessed_date': '2023-11-19'}, excluded_embed_metadata_keys=['file_name', 'file_type', 'file_size', 'creation_date', 'last_modified_date', 'last_accessed_date'], excluded_llm_metadata_keys=['file_name', 'file_type', 'file_size', 'creation_date', 'last_modified_date', 'last_accessed_date'], relationships={<NodeRelationship.SOURCE: '1'>: RelatedNodeInfo(node_id='8f119c43-f062-48bf-81cc-44a15bc44210', node_type=<ObjectType.DOCUMENT: '4'>, metadata={'file_path': 'data/harsha.txt', 'file_name': 'harsha.txt', 'file_type': 'text/plain', 'file_size': 418, 'creation_date': '2023-11-19', 'last_modified_date': '2023-11-19', 'last_accessed_date': '2023-11-19'}, hash='8097479cd31abca46d33e77b525c01d3e50433af0fa7a24dd1ef46fcd9ea6f5d'), <NodeRelationship.PREVIOUS: '2'>: RelatedNodeInfo(node_id='06cf9e84-f1d2-419f-aecd-f51c87b113af', node_type=<ObjectType.TEXT: '1'>, metadata={'page_label': '9', 'file_name': 'A Watermark for Large Language Models.pdf', 'file_path': 'data/A Watermark for Large Language Models.pdf', 'file_type': 'application/pdf', 'file_size': 1472891, 'creation_date': '2023-11-19', 'last_modified_date': '2023-11-04', 'last_accessed_date': '2023-11-19'}, hash='4bffb4a26b2a9cd422ff2a931ecc175e6cdf9a021457bada241e1d209e9d7d8d'), <NodeRelationship.NEXT: '3'>: RelatedNodeInfo(node_id='397abd13-9950-41e9-8a0a-2cc14c9fcc91', node_type=<ObjectType.IMAGE: '2'>, metadata={'file_path': 'data/mountain_pic.jpg', 'file_name': 'mountain_pic.jpg', 'file_type': 'image/jpeg', 'file_size': 78118, 'creation_date': '2023-11-19', 'last_modified_date': '2023-11-19', 'last_accessed_date': '2023-11-19'}, hash='44136fa355b3678a1146ad16f7e8649e94fb4fc21fe77e8310c060f61caaff8a')}, hash='4ceddbfc1352acc37e5e8173623767ca9795b961fd837e9a836239db7820f1be', text=\"Harsha is a brilliant software engineer and he loves to trek in the Himalayas. \\nHis trek to Hampta Pass was canceled due to heavy floods in Manali\\nHis recent adventure to Kedarkantha was transformative and he plans to go to Manaslu circuit in 2027.\\n\\nHarsha was seeing the Watermarking algorithm in his trip to Manali. \\nA shopkeeper asked him to explain what was Kirchenbauer's Z score hypothesis for hard watermarking.\", start_char_idx=None, end_char_idx=None, text_template='{metadata_str}\\n\\n{content}', metadata_template='{key}: {value}', metadata_seperator='\\n'), score=0.0)], metadata={'4ab55a27-3868-4ca8-a493-1f03ec359d76': {'page_label': '17', 'file_name': 'A Watermark for Large Language Models.pdf', 'file_path': 'data/A Watermark for Large Language Models.pdf', 'file_type': 'application/pdf', 'file_size': 1472891, 'creation_date': '2023-11-19', 'last_modified_date': '2023-11-04', 'last_accessed_date': '2023-11-19'}, '67d12342-c9c1-4c34-8991-a798946b36e7': {'file_path': 'data/harsha.txt', 'file_name': 'harsha.txt', 'file_type': 'text/plain', 'file_size': 418, 'creation_date': '2023-11-19', 'last_modified_date': '2023-11-19', 'last_accessed_date': '2023-11-19'}})"
      ]
     },
     "execution_count": 59,
     "metadata": {},
     "output_type": "execute_result"
    }
   ],
   "source": [
    "response = query_engine.query(\"What does the algoroithm introduced by Kirchenbauer do?\")\n",
    "response"
   ]
  },
  {
   "cell_type": "code",
   "execution_count": null,
   "metadata": {},
   "outputs": [],
   "source": []
  }
 ],
 "metadata": {
  "kernelspec": {
   "display_name": "Python 3 (ipykernel)",
   "language": "python",
   "name": "python3"
  },
  "language_info": {
   "codemirror_mode": {
    "name": "ipython",
    "version": 3
   },
   "file_extension": ".py",
   "mimetype": "text/x-python",
   "name": "python",
   "nbconvert_exporter": "python",
   "pygments_lexer": "ipython3",
   "version": "3.11.4"
  }
 },
 "nbformat": 4,
 "nbformat_minor": 5
}
