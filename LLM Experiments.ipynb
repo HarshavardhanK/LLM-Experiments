{
 "cells": [
  {
   "cell_type": "code",
   "execution_count": null,
   "id": "a2f6262f",
   "metadata": {},
   "outputs": [],
   "source": [
    "from llama_index.llms import Ollama, PaLM\n",
    "\n",
    "from llama_index import ServiceContext\n",
    "\n",
    "from langchain.callbacks.manager import CallbackManager\n",
    "from langchain.callbacks.streaming_stdout import StreamingStdOutCallbackHandler\n",
    "\n",
    "from llama_index import VectorStoreIndex, SimpleDirectoryReader\n",
    "\n",
    "from llama_index.llms import LangChainLLM"
   ]
  },
  {
   "cell_type": "code",
   "execution_count": null,
   "id": "72b29e8e",
   "metadata": {},
   "outputs": [],
   "source": [
    "llm = Ollama(model='llama2')"
   ]
  },
  {
   "cell_type": "code",
   "execution_count": null,
   "id": "e6b0900c",
   "metadata": {},
   "outputs": [],
   "source": [
    "type(llm)\n"
   ]
  },
  {
   "cell_type": "code",
   "execution_count": null,
   "id": "8e975f5f",
   "metadata": {},
   "outputs": [],
   "source": [
    "from langchain.callbacks.manager import CallbackManager\n",
    "from langchain.callbacks.streaming_stdout import StreamingStdOutCallbackHandler\n",
    "from langchain.llms import Ollama\n",
    "\n",
    "llm = Ollama(\n",
    "    model=\"llama2\")"
   ]
  },
  {
   "cell_type": "code",
   "execution_count": null,
   "id": "b6838fe6",
   "metadata": {},
   "outputs": [],
   "source": [
    "llm = LangChainLLM(llm=llm)"
   ]
  },
  {
   "cell_type": "code",
   "execution_count": null,
   "id": "e2f0fb56",
   "metadata": {},
   "outputs": [],
   "source": [
    "type(llm)\n",
    "resp = llm.complete(\"Who is Paul Graham?\")"
   ]
  },
  {
   "cell_type": "code",
   "execution_count": null,
   "id": "4ccd0424",
   "metadata": {},
   "outputs": [],
   "source": [
    "resp"
   ]
  },
  {
   "cell_type": "code",
   "execution_count": null,
   "id": "6bfe0024",
   "metadata": {},
   "outputs": [],
   "source": [
    "service_context = ServiceContext.from_defaults(llm=llm)"
   ]
  },
  {
   "cell_type": "code",
   "execution_count": null,
   "id": "9e2ec420",
   "metadata": {},
   "outputs": [],
   "source": [
    "documents = SimpleDirectoryReader(\"data\").load_data()\n",
    "index = VectorStoreIndex.from_documents(documents)\n",
    "\n",
    "query_engine = index.as_query_engine(service_context=service_context)\n",
    "response = query_engine.query(\"What did the author do growing up?\")\n",
    "print(response)\n",
    "\n",
    "import logging\n",
    "import sys\n",
    "\n",
    "logging.basicConfig(stream=sys.stdout, level=logging.DEBUG)\n",
    "logging.getLogger().addHandler(logging.StreamHandler(stream=sys.stdout))"
   ]
  },
  {
   "cell_type": "code",
   "execution_count": null,
   "id": "cffe9a90",
   "metadata": {},
   "outputs": [],
   "source": [
    "from llama_index import ListIndex, SimpleDirectoryReader\n",
    "from langchain.embeddings.huggingface import HuggingFaceEmbeddings\n",
    "from llama_index import LangchainEmbedding, ServiceContext\n",
    "\n",
    "# load in HF embedding model from langchain\n",
    "embed_model = LangchainEmbedding(HuggingFaceEmbeddings())\n",
    "service_context = ServiceContext.from_defaults(embed_model=embed_model)\n",
    "\n",
    "# build index\n",
    "documents = SimpleDirectoryReader('data').load_data()\n",
    "new_index = ListIndex.from_documents(documents)\n",
    "\n",
    "# query with embed_model specified\n",
    "query_engine = new_index.as_query_engine(\n",
    "    retriever_mode=\"embedding\", \n",
    "    verbose=True, \n",
    "    service_context=service_context\n",
    ")\n",
    "response = query_engine.query(\"<query_text>\")\n",
    "print(response)"
   ]
  },
  {
   "cell_type": "code",
   "execution_count": null,
   "metadata": {},
   "outputs": [],
   "source": [
    "from llama_index.embeddings import HuggingFaceEmbedding\n",
    "\n",
    "embed_model = HuggingFaceEmbedding(model_name=\"meta-llama/Llama-2-7b-chat-hf\")\n",
    "embeddings = embed_model.get_text_embedding(\"Hello World!\")\n",
    "print(len(embeddings))\n",
    "print(embeddings[:5])"
   ]
  },
  {
   "cell_type": "code",
   "execution_count": null,
   "metadata": {},
   "outputs": [],
   "source": [
    "from llama_index import ServiceContext\n",
    "\n",
    "service_context = ServiceContext.from_defaults(embed_model=\"local\")"
   ]
  },
  {
   "cell_type": "code",
   "execution_count": null,
   "metadata": {},
   "outputs": [],
   "source": [
    "from langchain.embeddings import OllamaEmbeddings\n",
    "embeddings = OllamaEmbeddings()\n",
    "text = \"This is a test document.\"\n",
    "query_result = embeddings.embed_query(text)\n",
    "query_result[:5]"
   ]
  },
  {
   "cell_type": "code",
   "execution_count": 42,
   "metadata": {},
   "outputs": [
    {
     "name": "stdout",
     "output_type": "stream",
     "text": [
      "DEBUG:httpx:load_ssl_context verify=True cert=None trust_env=True http2=False\n",
      "load_ssl_context verify=True cert=None trust_env=True http2=False\n",
      "load_ssl_context verify=True cert=None trust_env=True http2=False\n",
      "DEBUG:httpx:load_verify_locations cafile='/Users/harshavardhank/anaconda3/lib/python3.11/site-packages/certifi/cacert.pem'\n",
      "load_verify_locations cafile='/Users/harshavardhank/anaconda3/lib/python3.11/site-packages/certifi/cacert.pem'\n",
      "load_verify_locations cafile='/Users/harshavardhank/anaconda3/lib/python3.11/site-packages/certifi/cacert.pem'\n",
      "DEBUG:httpx:load_ssl_context verify=True cert=None trust_env=True http2=False\n",
      "load_ssl_context verify=True cert=None trust_env=True http2=False\n",
      "load_ssl_context verify=True cert=None trust_env=True http2=False\n",
      "DEBUG:httpx:load_verify_locations cafile='/Users/harshavardhank/anaconda3/lib/python3.11/site-packages/certifi/cacert.pem'\n",
      "load_verify_locations cafile='/Users/harshavardhank/anaconda3/lib/python3.11/site-packages/certifi/cacert.pem'\n",
      "load_verify_locations cafile='/Users/harshavardhank/anaconda3/lib/python3.11/site-packages/certifi/cacert.pem'\n",
      "INFO:sentence_transformers.SentenceTransformer:Load pretrained SentenceTransformer: Xenova/text-embedding-ada-002\n",
      "Load pretrained SentenceTransformer: Xenova/text-embedding-ada-002\n",
      "Load pretrained SentenceTransformer: Xenova/text-embedding-ada-002\n",
      "DEBUG:urllib3.connectionpool:Resetting dropped connection: huggingface.co\n",
      "Resetting dropped connection: huggingface.co\n",
      "Resetting dropped connection: huggingface.co\n",
      "DEBUG:urllib3.connectionpool:https://huggingface.co:443 \"GET /api/models/Xenova/text-embedding-ada-002 HTTP/1.1\" 200 858\n",
      "https://huggingface.co:443 \"GET /api/models/Xenova/text-embedding-ada-002 HTTP/1.1\" 200 858\n",
      "https://huggingface.co:443 \"GET /api/models/Xenova/text-embedding-ada-002 HTTP/1.1\" 200 858\n",
      "DEBUG:urllib3.connectionpool:https://huggingface.co:443 \"HEAD /Xenova/text-embedding-ada-002/resolve/34544697027a959c556598349d11f5de768ecccd/.gitattributes HTTP/1.1\" 200 0\n",
      "https://huggingface.co:443 \"HEAD /Xenova/text-embedding-ada-002/resolve/34544697027a959c556598349d11f5de768ecccd/.gitattributes HTTP/1.1\" 200 0\n",
      "https://huggingface.co:443 \"HEAD /Xenova/text-embedding-ada-002/resolve/34544697027a959c556598349d11f5de768ecccd/.gitattributes HTTP/1.1\" 200 0\n",
      "DEBUG:filelock:Attempting to acquire lock 11512050448 on /Users/harshavardhank/.cache/torch/sentence_transformers/Xenova_text-embedding-ada-002/.gitattributes.lock\n",
      "Attempting to acquire lock 11512050448 on /Users/harshavardhank/.cache/torch/sentence_transformers/Xenova_text-embedding-ada-002/.gitattributes.lock\n",
      "Attempting to acquire lock 11512050448 on /Users/harshavardhank/.cache/torch/sentence_transformers/Xenova_text-embedding-ada-002/.gitattributes.lock\n",
      "DEBUG:filelock:Lock 11512050448 acquired on /Users/harshavardhank/.cache/torch/sentence_transformers/Xenova_text-embedding-ada-002/.gitattributes.lock\n",
      "Lock 11512050448 acquired on /Users/harshavardhank/.cache/torch/sentence_transformers/Xenova_text-embedding-ada-002/.gitattributes.lock\n",
      "Lock 11512050448 acquired on /Users/harshavardhank/.cache/torch/sentence_transformers/Xenova_text-embedding-ada-002/.gitattributes.lock\n",
      "DEBUG:urllib3.connectionpool:https://huggingface.co:443 \"GET /Xenova/text-embedding-ada-002/resolve/34544697027a959c556598349d11f5de768ecccd/.gitattributes HTTP/1.1\" 200 1519\n",
      "https://huggingface.co:443 \"GET /Xenova/text-embedding-ada-002/resolve/34544697027a959c556598349d11f5de768ecccd/.gitattributes HTTP/1.1\" 200 1519\n",
      "https://huggingface.co:443 \"GET /Xenova/text-embedding-ada-002/resolve/34544697027a959c556598349d11f5de768ecccd/.gitattributes HTTP/1.1\" 200 1519\n"
     ]
    },
    {
     "data": {
      "application/vnd.jupyter.widget-view+json": {
       "model_id": "63f0bf25fc2945ccba895380ce07c83f",
       "version_major": 2,
       "version_minor": 0
      },
      "text/plain": [
       "Downloading .gitattributes:   0%|          | 0.00/1.52k [00:00<?, ?B/s]"
      ]
     },
     "metadata": {},
     "output_type": "display_data"
    },
    {
     "name": "stdout",
     "output_type": "stream",
     "text": [
      "DEBUG:filelock:Attempting to release lock 11512050448 on /Users/harshavardhank/.cache/torch/sentence_transformers/Xenova_text-embedding-ada-002/.gitattributes.lock\n",
      "Attempting to release lock 11512050448 on /Users/harshavardhank/.cache/torch/sentence_transformers/Xenova_text-embedding-ada-002/.gitattributes.lock\n",
      "Attempting to release lock 11512050448 on /Users/harshavardhank/.cache/torch/sentence_transformers/Xenova_text-embedding-ada-002/.gitattributes.lock\n",
      "DEBUG:filelock:Lock 11512050448 released on /Users/harshavardhank/.cache/torch/sentence_transformers/Xenova_text-embedding-ada-002/.gitattributes.lock\n",
      "Lock 11512050448 released on /Users/harshavardhank/.cache/torch/sentence_transformers/Xenova_text-embedding-ada-002/.gitattributes.lock\n",
      "Lock 11512050448 released on /Users/harshavardhank/.cache/torch/sentence_transformers/Xenova_text-embedding-ada-002/.gitattributes.lock\n",
      "DEBUG:urllib3.connectionpool:https://huggingface.co:443 \"HEAD /Xenova/text-embedding-ada-002/resolve/34544697027a959c556598349d11f5de768ecccd/README.md HTTP/1.1\" 200 0\n",
      "https://huggingface.co:443 \"HEAD /Xenova/text-embedding-ada-002/resolve/34544697027a959c556598349d11f5de768ecccd/README.md HTTP/1.1\" 200 0\n",
      "https://huggingface.co:443 \"HEAD /Xenova/text-embedding-ada-002/resolve/34544697027a959c556598349d11f5de768ecccd/README.md HTTP/1.1\" 200 0\n",
      "DEBUG:filelock:Attempting to acquire lock 11512700944 on /Users/harshavardhank/.cache/torch/sentence_transformers/Xenova_text-embedding-ada-002/README.md.lock\n",
      "Attempting to acquire lock 11512700944 on /Users/harshavardhank/.cache/torch/sentence_transformers/Xenova_text-embedding-ada-002/README.md.lock\n",
      "Attempting to acquire lock 11512700944 on /Users/harshavardhank/.cache/torch/sentence_transformers/Xenova_text-embedding-ada-002/README.md.lock\n",
      "DEBUG:filelock:Lock 11512700944 acquired on /Users/harshavardhank/.cache/torch/sentence_transformers/Xenova_text-embedding-ada-002/README.md.lock\n",
      "Lock 11512700944 acquired on /Users/harshavardhank/.cache/torch/sentence_transformers/Xenova_text-embedding-ada-002/README.md.lock\n",
      "Lock 11512700944 acquired on /Users/harshavardhank/.cache/torch/sentence_transformers/Xenova_text-embedding-ada-002/README.md.lock\n",
      "DEBUG:urllib3.connectionpool:https://huggingface.co:443 \"GET /Xenova/text-embedding-ada-002/resolve/34544697027a959c556598349d11f5de768ecccd/README.md HTTP/1.1\" 200 975\n",
      "https://huggingface.co:443 \"GET /Xenova/text-embedding-ada-002/resolve/34544697027a959c556598349d11f5de768ecccd/README.md HTTP/1.1\" 200 975\n",
      "https://huggingface.co:443 \"GET /Xenova/text-embedding-ada-002/resolve/34544697027a959c556598349d11f5de768ecccd/README.md HTTP/1.1\" 200 975\n"
     ]
    },
    {
     "data": {
      "application/vnd.jupyter.widget-view+json": {
       "model_id": "c7b1a7172c4d4492996f777cbf86012f",
       "version_major": 2,
       "version_minor": 0
      },
      "text/plain": [
       "Downloading README.md:   0%|          | 0.00/975 [00:00<?, ?B/s]"
      ]
     },
     "metadata": {},
     "output_type": "display_data"
    },
    {
     "name": "stdout",
     "output_type": "stream",
     "text": [
      "DEBUG:filelock:Attempting to release lock 11512700944 on /Users/harshavardhank/.cache/torch/sentence_transformers/Xenova_text-embedding-ada-002/README.md.lock\n",
      "Attempting to release lock 11512700944 on /Users/harshavardhank/.cache/torch/sentence_transformers/Xenova_text-embedding-ada-002/README.md.lock\n",
      "Attempting to release lock 11512700944 on /Users/harshavardhank/.cache/torch/sentence_transformers/Xenova_text-embedding-ada-002/README.md.lock\n",
      "DEBUG:filelock:Lock 11512700944 released on /Users/harshavardhank/.cache/torch/sentence_transformers/Xenova_text-embedding-ada-002/README.md.lock\n",
      "Lock 11512700944 released on /Users/harshavardhank/.cache/torch/sentence_transformers/Xenova_text-embedding-ada-002/README.md.lock\n",
      "Lock 11512700944 released on /Users/harshavardhank/.cache/torch/sentence_transformers/Xenova_text-embedding-ada-002/README.md.lock\n",
      "DEBUG:urllib3.connectionpool:https://huggingface.co:443 \"HEAD /Xenova/text-embedding-ada-002/resolve/34544697027a959c556598349d11f5de768ecccd/merges.txt HTTP/1.1\" 200 0\n",
      "https://huggingface.co:443 \"HEAD /Xenova/text-embedding-ada-002/resolve/34544697027a959c556598349d11f5de768ecccd/merges.txt HTTP/1.1\" 200 0\n",
      "https://huggingface.co:443 \"HEAD /Xenova/text-embedding-ada-002/resolve/34544697027a959c556598349d11f5de768ecccd/merges.txt HTTP/1.1\" 200 0\n",
      "DEBUG:filelock:Attempting to acquire lock 11512043984 on /Users/harshavardhank/.cache/torch/sentence_transformers/Xenova_text-embedding-ada-002/merges.txt.lock\n",
      "Attempting to acquire lock 11512043984 on /Users/harshavardhank/.cache/torch/sentence_transformers/Xenova_text-embedding-ada-002/merges.txt.lock\n",
      "Attempting to acquire lock 11512043984 on /Users/harshavardhank/.cache/torch/sentence_transformers/Xenova_text-embedding-ada-002/merges.txt.lock\n",
      "DEBUG:filelock:Lock 11512043984 acquired on /Users/harshavardhank/.cache/torch/sentence_transformers/Xenova_text-embedding-ada-002/merges.txt.lock\n",
      "Lock 11512043984 acquired on /Users/harshavardhank/.cache/torch/sentence_transformers/Xenova_text-embedding-ada-002/merges.txt.lock\n",
      "Lock 11512043984 acquired on /Users/harshavardhank/.cache/torch/sentence_transformers/Xenova_text-embedding-ada-002/merges.txt.lock\n",
      "DEBUG:urllib3.connectionpool:https://huggingface.co:443 \"GET /Xenova/text-embedding-ada-002/resolve/34544697027a959c556598349d11f5de768ecccd/merges.txt HTTP/1.1\" 200 916645\n",
      "https://huggingface.co:443 \"GET /Xenova/text-embedding-ada-002/resolve/34544697027a959c556598349d11f5de768ecccd/merges.txt HTTP/1.1\" 200 916645\n",
      "https://huggingface.co:443 \"GET /Xenova/text-embedding-ada-002/resolve/34544697027a959c556598349d11f5de768ecccd/merges.txt HTTP/1.1\" 200 916645\n"
     ]
    },
    {
     "data": {
      "application/vnd.jupyter.widget-view+json": {
       "model_id": "c272475a3a3c4a049fd51d04d3c76565",
       "version_major": 2,
       "version_minor": 0
      },
      "text/plain": [
       "Downloading merges.txt:   0%|          | 0.00/917k [00:00<?, ?B/s]"
      ]
     },
     "metadata": {},
     "output_type": "display_data"
    },
    {
     "name": "stdout",
     "output_type": "stream",
     "text": [
      "DEBUG:filelock:Attempting to release lock 11512043984 on /Users/harshavardhank/.cache/torch/sentence_transformers/Xenova_text-embedding-ada-002/merges.txt.lock\n",
      "Attempting to release lock 11512043984 on /Users/harshavardhank/.cache/torch/sentence_transformers/Xenova_text-embedding-ada-002/merges.txt.lock\n",
      "Attempting to release lock 11512043984 on /Users/harshavardhank/.cache/torch/sentence_transformers/Xenova_text-embedding-ada-002/merges.txt.lock\n",
      "DEBUG:filelock:Lock 11512043984 released on /Users/harshavardhank/.cache/torch/sentence_transformers/Xenova_text-embedding-ada-002/merges.txt.lock\n",
      "Lock 11512043984 released on /Users/harshavardhank/.cache/torch/sentence_transformers/Xenova_text-embedding-ada-002/merges.txt.lock\n",
      "Lock 11512043984 released on /Users/harshavardhank/.cache/torch/sentence_transformers/Xenova_text-embedding-ada-002/merges.txt.lock\n",
      "DEBUG:urllib3.connectionpool:https://huggingface.co:443 \"HEAD /Xenova/text-embedding-ada-002/resolve/34544697027a959c556598349d11f5de768ecccd/special_tokens_map.json HTTP/1.1\" 200 0\n",
      "https://huggingface.co:443 \"HEAD /Xenova/text-embedding-ada-002/resolve/34544697027a959c556598349d11f5de768ecccd/special_tokens_map.json HTTP/1.1\" 200 0\n",
      "https://huggingface.co:443 \"HEAD /Xenova/text-embedding-ada-002/resolve/34544697027a959c556598349d11f5de768ecccd/special_tokens_map.json HTTP/1.1\" 200 0\n",
      "DEBUG:filelock:Attempting to acquire lock 11489923344 on /Users/harshavardhank/.cache/torch/sentence_transformers/Xenova_text-embedding-ada-002/special_tokens_map.json.lock\n",
      "Attempting to acquire lock 11489923344 on /Users/harshavardhank/.cache/torch/sentence_transformers/Xenova_text-embedding-ada-002/special_tokens_map.json.lock\n",
      "Attempting to acquire lock 11489923344 on /Users/harshavardhank/.cache/torch/sentence_transformers/Xenova_text-embedding-ada-002/special_tokens_map.json.lock\n",
      "DEBUG:filelock:Lock 11489923344 acquired on /Users/harshavardhank/.cache/torch/sentence_transformers/Xenova_text-embedding-ada-002/special_tokens_map.json.lock\n",
      "Lock 11489923344 acquired on /Users/harshavardhank/.cache/torch/sentence_transformers/Xenova_text-embedding-ada-002/special_tokens_map.json.lock\n",
      "Lock 11489923344 acquired on /Users/harshavardhank/.cache/torch/sentence_transformers/Xenova_text-embedding-ada-002/special_tokens_map.json.lock\n",
      "DEBUG:urllib3.connectionpool:https://huggingface.co:443 \"GET /Xenova/text-embedding-ada-002/resolve/34544697027a959c556598349d11f5de768ecccd/special_tokens_map.json HTTP/1.1\" 200 98\n",
      "https://huggingface.co:443 \"GET /Xenova/text-embedding-ada-002/resolve/34544697027a959c556598349d11f5de768ecccd/special_tokens_map.json HTTP/1.1\" 200 98\n",
      "https://huggingface.co:443 \"GET /Xenova/text-embedding-ada-002/resolve/34544697027a959c556598349d11f5de768ecccd/special_tokens_map.json HTTP/1.1\" 200 98\n"
     ]
    },
    {
     "data": {
      "application/vnd.jupyter.widget-view+json": {
       "model_id": "06aa1669d4c9485797dbb06c5cf78232",
       "version_major": 2,
       "version_minor": 0
      },
      "text/plain": [
       "Downloading (…)cial_tokens_map.json:   0%|          | 0.00/98.0 [00:00<?, ?B/s]"
      ]
     },
     "metadata": {},
     "output_type": "display_data"
    },
    {
     "name": "stdout",
     "output_type": "stream",
     "text": [
      "DEBUG:filelock:Attempting to release lock 11489923344 on /Users/harshavardhank/.cache/torch/sentence_transformers/Xenova_text-embedding-ada-002/special_tokens_map.json.lock\n",
      "Attempting to release lock 11489923344 on /Users/harshavardhank/.cache/torch/sentence_transformers/Xenova_text-embedding-ada-002/special_tokens_map.json.lock\n",
      "Attempting to release lock 11489923344 on /Users/harshavardhank/.cache/torch/sentence_transformers/Xenova_text-embedding-ada-002/special_tokens_map.json.lock\n",
      "DEBUG:filelock:Lock 11489923344 released on /Users/harshavardhank/.cache/torch/sentence_transformers/Xenova_text-embedding-ada-002/special_tokens_map.json.lock\n",
      "Lock 11489923344 released on /Users/harshavardhank/.cache/torch/sentence_transformers/Xenova_text-embedding-ada-002/special_tokens_map.json.lock\n",
      "Lock 11489923344 released on /Users/harshavardhank/.cache/torch/sentence_transformers/Xenova_text-embedding-ada-002/special_tokens_map.json.lock\n",
      "DEBUG:urllib3.connectionpool:https://huggingface.co:443 \"HEAD /Xenova/text-embedding-ada-002/resolve/34544697027a959c556598349d11f5de768ecccd/tokenizer.json HTTP/1.1\" 200 0\n",
      "https://huggingface.co:443 \"HEAD /Xenova/text-embedding-ada-002/resolve/34544697027a959c556598349d11f5de768ecccd/tokenizer.json HTTP/1.1\" 200 0\n",
      "https://huggingface.co:443 \"HEAD /Xenova/text-embedding-ada-002/resolve/34544697027a959c556598349d11f5de768ecccd/tokenizer.json HTTP/1.1\" 200 0\n",
      "DEBUG:filelock:Attempting to acquire lock 11512443152 on /Users/harshavardhank/.cache/torch/sentence_transformers/Xenova_text-embedding-ada-002/tokenizer.json.lock\n",
      "Attempting to acquire lock 11512443152 on /Users/harshavardhank/.cache/torch/sentence_transformers/Xenova_text-embedding-ada-002/tokenizer.json.lock\n",
      "Attempting to acquire lock 11512443152 on /Users/harshavardhank/.cache/torch/sentence_transformers/Xenova_text-embedding-ada-002/tokenizer.json.lock\n",
      "DEBUG:filelock:Lock 11512443152 acquired on /Users/harshavardhank/.cache/torch/sentence_transformers/Xenova_text-embedding-ada-002/tokenizer.json.lock\n",
      "Lock 11512443152 acquired on /Users/harshavardhank/.cache/torch/sentence_transformers/Xenova_text-embedding-ada-002/tokenizer.json.lock\n",
      "Lock 11512443152 acquired on /Users/harshavardhank/.cache/torch/sentence_transformers/Xenova_text-embedding-ada-002/tokenizer.json.lock\n",
      "DEBUG:urllib3.connectionpool:https://huggingface.co:443 \"GET /Xenova/text-embedding-ada-002/resolve/34544697027a959c556598349d11f5de768ecccd/tokenizer.json HTTP/1.1\" 200 4233083\n",
      "https://huggingface.co:443 \"GET /Xenova/text-embedding-ada-002/resolve/34544697027a959c556598349d11f5de768ecccd/tokenizer.json HTTP/1.1\" 200 4233083\n",
      "https://huggingface.co:443 \"GET /Xenova/text-embedding-ada-002/resolve/34544697027a959c556598349d11f5de768ecccd/tokenizer.json HTTP/1.1\" 200 4233083\n"
     ]
    },
    {
     "data": {
      "application/vnd.jupyter.widget-view+json": {
       "model_id": "2522619fbf024114a37b8ed95cc4be69",
       "version_major": 2,
       "version_minor": 0
      },
      "text/plain": [
       "Downloading tokenizer.json:   0%|          | 0.00/4.23M [00:00<?, ?B/s]"
      ]
     },
     "metadata": {},
     "output_type": "display_data"
    },
    {
     "name": "stdout",
     "output_type": "stream",
     "text": [
      "DEBUG:filelock:Attempting to release lock 11512443152 on /Users/harshavardhank/.cache/torch/sentence_transformers/Xenova_text-embedding-ada-002/tokenizer.json.lock\n",
      "Attempting to release lock 11512443152 on /Users/harshavardhank/.cache/torch/sentence_transformers/Xenova_text-embedding-ada-002/tokenizer.json.lock\n",
      "Attempting to release lock 11512443152 on /Users/harshavardhank/.cache/torch/sentence_transformers/Xenova_text-embedding-ada-002/tokenizer.json.lock\n",
      "DEBUG:filelock:Lock 11512443152 released on /Users/harshavardhank/.cache/torch/sentence_transformers/Xenova_text-embedding-ada-002/tokenizer.json.lock\n",
      "Lock 11512443152 released on /Users/harshavardhank/.cache/torch/sentence_transformers/Xenova_text-embedding-ada-002/tokenizer.json.lock\n",
      "Lock 11512443152 released on /Users/harshavardhank/.cache/torch/sentence_transformers/Xenova_text-embedding-ada-002/tokenizer.json.lock\n",
      "DEBUG:urllib3.connectionpool:https://huggingface.co:443 \"HEAD /Xenova/text-embedding-ada-002/resolve/34544697027a959c556598349d11f5de768ecccd/tokenizer_config.json HTTP/1.1\" 200 0\n",
      "https://huggingface.co:443 \"HEAD /Xenova/text-embedding-ada-002/resolve/34544697027a959c556598349d11f5de768ecccd/tokenizer_config.json HTTP/1.1\" 200 0\n",
      "https://huggingface.co:443 \"HEAD /Xenova/text-embedding-ada-002/resolve/34544697027a959c556598349d11f5de768ecccd/tokenizer_config.json HTTP/1.1\" 200 0\n",
      "DEBUG:filelock:Attempting to acquire lock 11511990992 on /Users/harshavardhank/.cache/torch/sentence_transformers/Xenova_text-embedding-ada-002/tokenizer_config.json.lock\n",
      "Attempting to acquire lock 11511990992 on /Users/harshavardhank/.cache/torch/sentence_transformers/Xenova_text-embedding-ada-002/tokenizer_config.json.lock\n",
      "Attempting to acquire lock 11511990992 on /Users/harshavardhank/.cache/torch/sentence_transformers/Xenova_text-embedding-ada-002/tokenizer_config.json.lock\n",
      "DEBUG:filelock:Lock 11511990992 acquired on /Users/harshavardhank/.cache/torch/sentence_transformers/Xenova_text-embedding-ada-002/tokenizer_config.json.lock\n",
      "Lock 11511990992 acquired on /Users/harshavardhank/.cache/torch/sentence_transformers/Xenova_text-embedding-ada-002/tokenizer_config.json.lock\n",
      "Lock 11511990992 acquired on /Users/harshavardhank/.cache/torch/sentence_transformers/Xenova_text-embedding-ada-002/tokenizer_config.json.lock\n",
      "DEBUG:urllib3.connectionpool:https://huggingface.co:443 \"GET /Xenova/text-embedding-ada-002/resolve/34544697027a959c556598349d11f5de768ecccd/tokenizer_config.json HTTP/1.1\" 200 233\n",
      "https://huggingface.co:443 \"GET /Xenova/text-embedding-ada-002/resolve/34544697027a959c556598349d11f5de768ecccd/tokenizer_config.json HTTP/1.1\" 200 233\n",
      "https://huggingface.co:443 \"GET /Xenova/text-embedding-ada-002/resolve/34544697027a959c556598349d11f5de768ecccd/tokenizer_config.json HTTP/1.1\" 200 233\n"
     ]
    },
    {
     "data": {
      "application/vnd.jupyter.widget-view+json": {
       "model_id": "0c22481a6c22493eb716ee699960f162",
       "version_major": 2,
       "version_minor": 0
      },
      "text/plain": [
       "Downloading tokenizer_config.json:   0%|          | 0.00/233 [00:00<?, ?B/s]"
      ]
     },
     "metadata": {},
     "output_type": "display_data"
    },
    {
     "name": "stdout",
     "output_type": "stream",
     "text": [
      "DEBUG:filelock:Attempting to release lock 11511990992 on /Users/harshavardhank/.cache/torch/sentence_transformers/Xenova_text-embedding-ada-002/tokenizer_config.json.lock\n",
      "Attempting to release lock 11511990992 on /Users/harshavardhank/.cache/torch/sentence_transformers/Xenova_text-embedding-ada-002/tokenizer_config.json.lock\n",
      "Attempting to release lock 11511990992 on /Users/harshavardhank/.cache/torch/sentence_transformers/Xenova_text-embedding-ada-002/tokenizer_config.json.lock\n",
      "DEBUG:filelock:Lock 11511990992 released on /Users/harshavardhank/.cache/torch/sentence_transformers/Xenova_text-embedding-ada-002/tokenizer_config.json.lock\n",
      "Lock 11511990992 released on /Users/harshavardhank/.cache/torch/sentence_transformers/Xenova_text-embedding-ada-002/tokenizer_config.json.lock\n",
      "Lock 11511990992 released on /Users/harshavardhank/.cache/torch/sentence_transformers/Xenova_text-embedding-ada-002/tokenizer_config.json.lock\n",
      "DEBUG:urllib3.connectionpool:https://huggingface.co:443 \"HEAD /Xenova/text-embedding-ada-002/resolve/34544697027a959c556598349d11f5de768ecccd/vocab.json HTTP/1.1\" 200 0\n",
      "https://huggingface.co:443 \"HEAD /Xenova/text-embedding-ada-002/resolve/34544697027a959c556598349d11f5de768ecccd/vocab.json HTTP/1.1\" 200 0\n",
      "https://huggingface.co:443 \"HEAD /Xenova/text-embedding-ada-002/resolve/34544697027a959c556598349d11f5de768ecccd/vocab.json HTTP/1.1\" 200 0\n",
      "DEBUG:filelock:Attempting to acquire lock 11512989264 on /Users/harshavardhank/.cache/torch/sentence_transformers/Xenova_text-embedding-ada-002/vocab.json.lock\n",
      "Attempting to acquire lock 11512989264 on /Users/harshavardhank/.cache/torch/sentence_transformers/Xenova_text-embedding-ada-002/vocab.json.lock\n",
      "Attempting to acquire lock 11512989264 on /Users/harshavardhank/.cache/torch/sentence_transformers/Xenova_text-embedding-ada-002/vocab.json.lock\n",
      "DEBUG:filelock:Lock 11512989264 acquired on /Users/harshavardhank/.cache/torch/sentence_transformers/Xenova_text-embedding-ada-002/vocab.json.lock\n",
      "Lock 11512989264 acquired on /Users/harshavardhank/.cache/torch/sentence_transformers/Xenova_text-embedding-ada-002/vocab.json.lock\n",
      "Lock 11512989264 acquired on /Users/harshavardhank/.cache/torch/sentence_transformers/Xenova_text-embedding-ada-002/vocab.json.lock\n",
      "DEBUG:urllib3.connectionpool:https://huggingface.co:443 \"GET /Xenova/text-embedding-ada-002/resolve/34544697027a959c556598349d11f5de768ecccd/vocab.json HTTP/1.1\" 200 2011694\n",
      "https://huggingface.co:443 \"GET /Xenova/text-embedding-ada-002/resolve/34544697027a959c556598349d11f5de768ecccd/vocab.json HTTP/1.1\" 200 2011694\n",
      "https://huggingface.co:443 \"GET /Xenova/text-embedding-ada-002/resolve/34544697027a959c556598349d11f5de768ecccd/vocab.json HTTP/1.1\" 200 2011694\n"
     ]
    },
    {
     "data": {
      "application/vnd.jupyter.widget-view+json": {
       "model_id": "3b212c4eff9845b6b7b25687fa8dd00a",
       "version_major": 2,
       "version_minor": 0
      },
      "text/plain": [
       "Downloading vocab.json:   0%|          | 0.00/2.01M [00:00<?, ?B/s]"
      ]
     },
     "metadata": {},
     "output_type": "display_data"
    },
    {
     "name": "stdout",
     "output_type": "stream",
     "text": [
      "DEBUG:filelock:Attempting to release lock 11512989264 on /Users/harshavardhank/.cache/torch/sentence_transformers/Xenova_text-embedding-ada-002/vocab.json.lock\n",
      "Attempting to release lock 11512989264 on /Users/harshavardhank/.cache/torch/sentence_transformers/Xenova_text-embedding-ada-002/vocab.json.lock\n",
      "Attempting to release lock 11512989264 on /Users/harshavardhank/.cache/torch/sentence_transformers/Xenova_text-embedding-ada-002/vocab.json.lock\n",
      "DEBUG:filelock:Lock 11512989264 released on /Users/harshavardhank/.cache/torch/sentence_transformers/Xenova_text-embedding-ada-002/vocab.json.lock\n",
      "Lock 11512989264 released on /Users/harshavardhank/.cache/torch/sentence_transformers/Xenova_text-embedding-ada-002/vocab.json.lock\n",
      "Lock 11512989264 released on /Users/harshavardhank/.cache/torch/sentence_transformers/Xenova_text-embedding-ada-002/vocab.json.lock\n",
      "WARNING:sentence_transformers.SentenceTransformer:No sentence-transformers model found with name /Users/harshavardhank/.cache/torch/sentence_transformers/Xenova_text-embedding-ada-002. Creating a new one with MEAN pooling.\n",
      "No sentence-transformers model found with name /Users/harshavardhank/.cache/torch/sentence_transformers/Xenova_text-embedding-ada-002. Creating a new one with MEAN pooling.\n",
      "No sentence-transformers model found with name /Users/harshavardhank/.cache/torch/sentence_transformers/Xenova_text-embedding-ada-002. Creating a new one with MEAN pooling.\n"
     ]
    },
    {
     "ename": "OSError",
     "evalue": "/Users/harshavardhank/.cache/torch/sentence_transformers/Xenova_text-embedding-ada-002 does not appear to have a file named config.json. Checkout 'https://huggingface.co//Users/harshavardhank/.cache/torch/sentence_transformers/Xenova_text-embedding-ada-002/None' for available files.",
     "output_type": "error",
     "traceback": [
      "\u001b[0;31m---------------------------------------------------------------------------\u001b[0m",
      "\u001b[0;31mOSError\u001b[0m                                   Traceback (most recent call last)",
      "\u001b[1;32m/Users/harshavardhank/Desktop/Code/NLP/LlamaIndex/LLM Experiments.ipynb Cell 14\u001b[0m line \u001b[0;36m7\n\u001b[1;32m      <a href='vscode-notebook-cell:/Users/harshavardhank/Desktop/Code/NLP/LlamaIndex/LLM%20Experiments.ipynb#X62sZmlsZQ%3D%3D?line=3'>4</a>\u001b[0m \u001b[39mfrom\u001b[39;00m \u001b[39mllama_index\u001b[39;00m\u001b[39m.\u001b[39;00m\u001b[39membeddings\u001b[39;00m \u001b[39mimport\u001b[39;00m OpenAIEmbedding\n\u001b[1;32m      <a href='vscode-notebook-cell:/Users/harshavardhank/Desktop/Code/NLP/LlamaIndex/LLM%20Experiments.ipynb#X62sZmlsZQ%3D%3D?line=4'>5</a>\u001b[0m embed_model \u001b[39m=\u001b[39m OpenAIEmbedding()\n\u001b[0;32m----> <a href='vscode-notebook-cell:/Users/harshavardhank/Desktop/Code/NLP/LlamaIndex/LLM%20Experiments.ipynb#X62sZmlsZQ%3D%3D?line=6'>7</a>\u001b[0m embed_model \u001b[39m=\u001b[39m HuggingFaceEmbeddings(\n\u001b[1;32m      <a href='vscode-notebook-cell:/Users/harshavardhank/Desktop/Code/NLP/LlamaIndex/LLM%20Experiments.ipynb#X62sZmlsZQ%3D%3D?line=7'>8</a>\u001b[0m     model_name\u001b[39m=\u001b[39m\u001b[39m\"\u001b[39m\u001b[39mXenova/text-embedding-ada-002\u001b[39m\u001b[39m\"\u001b[39m\n\u001b[1;32m      <a href='vscode-notebook-cell:/Users/harshavardhank/Desktop/Code/NLP/LlamaIndex/LLM%20Experiments.ipynb#X62sZmlsZQ%3D%3D?line=8'>9</a>\u001b[0m )\n\u001b[1;32m     <a href='vscode-notebook-cell:/Users/harshavardhank/Desktop/Code/NLP/LlamaIndex/LLM%20Experiments.ipynb#X62sZmlsZQ%3D%3D?line=11'>12</a>\u001b[0m service_context \u001b[39m=\u001b[39m ServiceContext\u001b[39m.\u001b[39mfrom_defaults(embed_model\u001b[39m=\u001b[39membed_model, llm\u001b[39m=\u001b[39mllm)\n\u001b[1;32m     <a href='vscode-notebook-cell:/Users/harshavardhank/Desktop/Code/NLP/LlamaIndex/LLM%20Experiments.ipynb#X62sZmlsZQ%3D%3D?line=13'>14</a>\u001b[0m \u001b[39m# optionally set a global service context\u001b[39;00m\n",
      "File \u001b[0;32m~/anaconda3/lib/python3.11/site-packages/langchain/embeddings/huggingface.py:66\u001b[0m, in \u001b[0;36mHuggingFaceEmbeddings.__init__\u001b[0;34m(self, **kwargs)\u001b[0m\n\u001b[1;32m     60\u001b[0m \u001b[39mexcept\u001b[39;00m \u001b[39mImportError\u001b[39;00m \u001b[39mas\u001b[39;00m exc:\n\u001b[1;32m     61\u001b[0m     \u001b[39mraise\u001b[39;00m \u001b[39mImportError\u001b[39;00m(\n\u001b[1;32m     62\u001b[0m         \u001b[39m\"\u001b[39m\u001b[39mCould not import sentence_transformers python package. \u001b[39m\u001b[39m\"\u001b[39m\n\u001b[1;32m     63\u001b[0m         \u001b[39m\"\u001b[39m\u001b[39mPlease install it with `pip install sentence-transformers`.\u001b[39m\u001b[39m\"\u001b[39m\n\u001b[1;32m     64\u001b[0m     ) \u001b[39mfrom\u001b[39;00m \u001b[39mexc\u001b[39;00m\n\u001b[0;32m---> 66\u001b[0m \u001b[39mself\u001b[39m\u001b[39m.\u001b[39mclient \u001b[39m=\u001b[39m sentence_transformers\u001b[39m.\u001b[39mSentenceTransformer(\n\u001b[1;32m     67\u001b[0m     \u001b[39mself\u001b[39m\u001b[39m.\u001b[39mmodel_name, cache_folder\u001b[39m=\u001b[39m\u001b[39mself\u001b[39m\u001b[39m.\u001b[39mcache_folder, \u001b[39m*\u001b[39m\u001b[39m*\u001b[39m\u001b[39mself\u001b[39m\u001b[39m.\u001b[39mmodel_kwargs\n\u001b[1;32m     68\u001b[0m )\n",
      "File \u001b[0;32m~/anaconda3/lib/python3.11/site-packages/sentence_transformers/SentenceTransformer.py:97\u001b[0m, in \u001b[0;36mSentenceTransformer.__init__\u001b[0;34m(self, model_name_or_path, modules, device, cache_folder, use_auth_token)\u001b[0m\n\u001b[1;32m     95\u001b[0m         modules \u001b[39m=\u001b[39m \u001b[39mself\u001b[39m\u001b[39m.\u001b[39m_load_sbert_model(model_path)\n\u001b[1;32m     96\u001b[0m     \u001b[39melse\u001b[39;00m:   \u001b[39m#Load with AutoModel\u001b[39;00m\n\u001b[0;32m---> 97\u001b[0m         modules \u001b[39m=\u001b[39m \u001b[39mself\u001b[39m\u001b[39m.\u001b[39m_load_auto_model(model_path)\n\u001b[1;32m     99\u001b[0m \u001b[39mif\u001b[39;00m modules \u001b[39mis\u001b[39;00m \u001b[39mnot\u001b[39;00m \u001b[39mNone\u001b[39;00m \u001b[39mand\u001b[39;00m \u001b[39mnot\u001b[39;00m \u001b[39misinstance\u001b[39m(modules, OrderedDict):\n\u001b[1;32m    100\u001b[0m     modules \u001b[39m=\u001b[39m OrderedDict([(\u001b[39mstr\u001b[39m(idx), module) \u001b[39mfor\u001b[39;00m idx, module \u001b[39min\u001b[39;00m \u001b[39menumerate\u001b[39m(modules)])\n",
      "File \u001b[0;32m~/anaconda3/lib/python3.11/site-packages/sentence_transformers/SentenceTransformer.py:806\u001b[0m, in \u001b[0;36mSentenceTransformer._load_auto_model\u001b[0;34m(self, model_name_or_path)\u001b[0m\n\u001b[1;32m    802\u001b[0m \u001b[39m\u001b[39m\u001b[39m\"\"\"\u001b[39;00m\n\u001b[1;32m    803\u001b[0m \u001b[39mCreates a simple Transformer + Mean Pooling model and returns the modules\u001b[39;00m\n\u001b[1;32m    804\u001b[0m \u001b[39m\"\"\"\u001b[39;00m\n\u001b[1;32m    805\u001b[0m logger\u001b[39m.\u001b[39mwarning(\u001b[39m\"\u001b[39m\u001b[39mNo sentence-transformers model found with name \u001b[39m\u001b[39m{}\u001b[39;00m\u001b[39m. Creating a new one with MEAN pooling.\u001b[39m\u001b[39m\"\u001b[39m\u001b[39m.\u001b[39mformat(model_name_or_path))\n\u001b[0;32m--> 806\u001b[0m transformer_model \u001b[39m=\u001b[39m Transformer(model_name_or_path)\n\u001b[1;32m    807\u001b[0m pooling_model \u001b[39m=\u001b[39m Pooling(transformer_model\u001b[39m.\u001b[39mget_word_embedding_dimension(), \u001b[39m'\u001b[39m\u001b[39mmean\u001b[39m\u001b[39m'\u001b[39m)\n\u001b[1;32m    808\u001b[0m \u001b[39mreturn\u001b[39;00m [transformer_model, pooling_model]\n",
      "File \u001b[0;32m~/anaconda3/lib/python3.11/site-packages/sentence_transformers/models/Transformer.py:28\u001b[0m, in \u001b[0;36mTransformer.__init__\u001b[0;34m(self, model_name_or_path, max_seq_length, model_args, cache_dir, tokenizer_args, do_lower_case, tokenizer_name_or_path)\u001b[0m\n\u001b[1;32m     25\u001b[0m \u001b[39mself\u001b[39m\u001b[39m.\u001b[39mconfig_keys \u001b[39m=\u001b[39m [\u001b[39m'\u001b[39m\u001b[39mmax_seq_length\u001b[39m\u001b[39m'\u001b[39m, \u001b[39m'\u001b[39m\u001b[39mdo_lower_case\u001b[39m\u001b[39m'\u001b[39m]\n\u001b[1;32m     26\u001b[0m \u001b[39mself\u001b[39m\u001b[39m.\u001b[39mdo_lower_case \u001b[39m=\u001b[39m do_lower_case\n\u001b[0;32m---> 28\u001b[0m config \u001b[39m=\u001b[39m AutoConfig\u001b[39m.\u001b[39mfrom_pretrained(model_name_or_path, \u001b[39m*\u001b[39m\u001b[39m*\u001b[39mmodel_args, cache_dir\u001b[39m=\u001b[39mcache_dir)\n\u001b[1;32m     29\u001b[0m \u001b[39mself\u001b[39m\u001b[39m.\u001b[39m_load_model(model_name_or_path, config, cache_dir)\n\u001b[1;32m     31\u001b[0m \u001b[39mself\u001b[39m\u001b[39m.\u001b[39mtokenizer \u001b[39m=\u001b[39m AutoTokenizer\u001b[39m.\u001b[39mfrom_pretrained(tokenizer_name_or_path \u001b[39mif\u001b[39;00m tokenizer_name_or_path \u001b[39mis\u001b[39;00m \u001b[39mnot\u001b[39;00m \u001b[39mNone\u001b[39;00m \u001b[39melse\u001b[39;00m model_name_or_path, cache_dir\u001b[39m=\u001b[39mcache_dir, \u001b[39m*\u001b[39m\u001b[39m*\u001b[39mtokenizer_args)\n",
      "File \u001b[0;32m~/anaconda3/lib/python3.11/site-packages/transformers/models/auto/configuration_auto.py:928\u001b[0m, in \u001b[0;36mAutoConfig.from_pretrained\u001b[0;34m(cls, pretrained_model_name_or_path, **kwargs)\u001b[0m\n\u001b[1;32m    926\u001b[0m kwargs[\u001b[39m\"\u001b[39m\u001b[39mname_or_path\u001b[39m\u001b[39m\"\u001b[39m] \u001b[39m=\u001b[39m pretrained_model_name_or_path\n\u001b[1;32m    927\u001b[0m trust_remote_code \u001b[39m=\u001b[39m kwargs\u001b[39m.\u001b[39mpop(\u001b[39m\"\u001b[39m\u001b[39mtrust_remote_code\u001b[39m\u001b[39m\"\u001b[39m, \u001b[39mFalse\u001b[39;00m)\n\u001b[0;32m--> 928\u001b[0m config_dict, unused_kwargs \u001b[39m=\u001b[39m PretrainedConfig\u001b[39m.\u001b[39mget_config_dict(pretrained_model_name_or_path, \u001b[39m*\u001b[39m\u001b[39m*\u001b[39mkwargs)\n\u001b[1;32m    929\u001b[0m \u001b[39mif\u001b[39;00m \u001b[39m\"\u001b[39m\u001b[39mauto_map\u001b[39m\u001b[39m\"\u001b[39m \u001b[39min\u001b[39;00m config_dict \u001b[39mand\u001b[39;00m \u001b[39m\"\u001b[39m\u001b[39mAutoConfig\u001b[39m\u001b[39m\"\u001b[39m \u001b[39min\u001b[39;00m config_dict[\u001b[39m\"\u001b[39m\u001b[39mauto_map\u001b[39m\u001b[39m\"\u001b[39m]:\n\u001b[1;32m    930\u001b[0m     \u001b[39mif\u001b[39;00m \u001b[39mnot\u001b[39;00m trust_remote_code:\n",
      "File \u001b[0;32m~/anaconda3/lib/python3.11/site-packages/transformers/configuration_utils.py:574\u001b[0m, in \u001b[0;36mPretrainedConfig.get_config_dict\u001b[0;34m(cls, pretrained_model_name_or_path, **kwargs)\u001b[0m\n\u001b[1;32m    572\u001b[0m original_kwargs \u001b[39m=\u001b[39m copy\u001b[39m.\u001b[39mdeepcopy(kwargs)\n\u001b[1;32m    573\u001b[0m \u001b[39m# Get config dict associated with the base config file\u001b[39;00m\n\u001b[0;32m--> 574\u001b[0m config_dict, kwargs \u001b[39m=\u001b[39m \u001b[39mcls\u001b[39m\u001b[39m.\u001b[39m_get_config_dict(pretrained_model_name_or_path, \u001b[39m*\u001b[39m\u001b[39m*\u001b[39mkwargs)\n\u001b[1;32m    575\u001b[0m \u001b[39mif\u001b[39;00m \u001b[39m\"\u001b[39m\u001b[39m_commit_hash\u001b[39m\u001b[39m\"\u001b[39m \u001b[39min\u001b[39;00m config_dict:\n\u001b[1;32m    576\u001b[0m     original_kwargs[\u001b[39m\"\u001b[39m\u001b[39m_commit_hash\u001b[39m\u001b[39m\"\u001b[39m] \u001b[39m=\u001b[39m config_dict[\u001b[39m\"\u001b[39m\u001b[39m_commit_hash\u001b[39m\u001b[39m\"\u001b[39m]\n",
      "File \u001b[0;32m~/anaconda3/lib/python3.11/site-packages/transformers/configuration_utils.py:629\u001b[0m, in \u001b[0;36mPretrainedConfig._get_config_dict\u001b[0;34m(cls, pretrained_model_name_or_path, **kwargs)\u001b[0m\n\u001b[1;32m    625\u001b[0m configuration_file \u001b[39m=\u001b[39m kwargs\u001b[39m.\u001b[39mpop(\u001b[39m\"\u001b[39m\u001b[39m_configuration_file\u001b[39m\u001b[39m\"\u001b[39m, CONFIG_NAME)\n\u001b[1;32m    627\u001b[0m \u001b[39mtry\u001b[39;00m:\n\u001b[1;32m    628\u001b[0m     \u001b[39m# Load from local folder or from cache or download from model Hub and cache\u001b[39;00m\n\u001b[0;32m--> 629\u001b[0m     resolved_config_file \u001b[39m=\u001b[39m cached_file(\n\u001b[1;32m    630\u001b[0m         pretrained_model_name_or_path,\n\u001b[1;32m    631\u001b[0m         configuration_file,\n\u001b[1;32m    632\u001b[0m         cache_dir\u001b[39m=\u001b[39mcache_dir,\n\u001b[1;32m    633\u001b[0m         force_download\u001b[39m=\u001b[39mforce_download,\n\u001b[1;32m    634\u001b[0m         proxies\u001b[39m=\u001b[39mproxies,\n\u001b[1;32m    635\u001b[0m         resume_download\u001b[39m=\u001b[39mresume_download,\n\u001b[1;32m    636\u001b[0m         local_files_only\u001b[39m=\u001b[39mlocal_files_only,\n\u001b[1;32m    637\u001b[0m         use_auth_token\u001b[39m=\u001b[39muse_auth_token,\n\u001b[1;32m    638\u001b[0m         user_agent\u001b[39m=\u001b[39muser_agent,\n\u001b[1;32m    639\u001b[0m         revision\u001b[39m=\u001b[39mrevision,\n\u001b[1;32m    640\u001b[0m         subfolder\u001b[39m=\u001b[39msubfolder,\n\u001b[1;32m    641\u001b[0m         _commit_hash\u001b[39m=\u001b[39mcommit_hash,\n\u001b[1;32m    642\u001b[0m     )\n\u001b[1;32m    643\u001b[0m     commit_hash \u001b[39m=\u001b[39m extract_commit_hash(resolved_config_file, commit_hash)\n\u001b[1;32m    644\u001b[0m \u001b[39mexcept\u001b[39;00m \u001b[39mEnvironmentError\u001b[39;00m:\n\u001b[1;32m    645\u001b[0m     \u001b[39m# Raise any environment error raise by `cached_file`. It will have a helpful error message adapted to\u001b[39;00m\n\u001b[1;32m    646\u001b[0m     \u001b[39m# the original exception.\u001b[39;00m\n",
      "File \u001b[0;32m~/anaconda3/lib/python3.11/site-packages/transformers/utils/hub.py:388\u001b[0m, in \u001b[0;36mcached_file\u001b[0;34m(path_or_repo_id, filename, cache_dir, force_download, resume_download, proxies, use_auth_token, revision, local_files_only, subfolder, repo_type, user_agent, _raise_exceptions_for_missing_entries, _raise_exceptions_for_connection_errors, _commit_hash)\u001b[0m\n\u001b[1;32m    386\u001b[0m \u001b[39mif\u001b[39;00m \u001b[39mnot\u001b[39;00m os\u001b[39m.\u001b[39mpath\u001b[39m.\u001b[39misfile(resolved_file):\n\u001b[1;32m    387\u001b[0m     \u001b[39mif\u001b[39;00m _raise_exceptions_for_missing_entries:\n\u001b[0;32m--> 388\u001b[0m         \u001b[39mraise\u001b[39;00m \u001b[39mEnvironmentError\u001b[39;00m(\n\u001b[1;32m    389\u001b[0m             \u001b[39mf\u001b[39m\u001b[39m\"\u001b[39m\u001b[39m{\u001b[39;00mpath_or_repo_id\u001b[39m}\u001b[39;00m\u001b[39m does not appear to have a file named \u001b[39m\u001b[39m{\u001b[39;00mfull_filename\u001b[39m}\u001b[39;00m\u001b[39m. Checkout \u001b[39m\u001b[39m\"\u001b[39m\n\u001b[1;32m    390\u001b[0m             \u001b[39mf\u001b[39m\u001b[39m\"\u001b[39m\u001b[39m'\u001b[39m\u001b[39mhttps://huggingface.co/\u001b[39m\u001b[39m{\u001b[39;00mpath_or_repo_id\u001b[39m}\u001b[39;00m\u001b[39m/\u001b[39m\u001b[39m{\u001b[39;00mrevision\u001b[39m}\u001b[39;00m\u001b[39m'\u001b[39m\u001b[39m for available files.\u001b[39m\u001b[39m\"\u001b[39m\n\u001b[1;32m    391\u001b[0m         )\n\u001b[1;32m    392\u001b[0m     \u001b[39melse\u001b[39;00m:\n\u001b[1;32m    393\u001b[0m         \u001b[39mreturn\u001b[39;00m \u001b[39mNone\u001b[39;00m\n",
      "\u001b[0;31mOSError\u001b[0m: /Users/harshavardhank/.cache/torch/sentence_transformers/Xenova_text-embedding-ada-002 does not appear to have a file named config.json. Checkout 'https://huggingface.co//Users/harshavardhank/.cache/torch/sentence_transformers/Xenova_text-embedding-ada-002/None' for available files."
     ]
    }
   ],
   "source": [
    "from langchain.embeddings import HuggingFaceEmbeddings\n",
    "from llama_index import ServiceContext, set_global_service_context\n",
    "\n",
    "from llama_index.embeddings import OpenAIEmbedding\n",
    "embed_model = OpenAIEmbedding()\n",
    "\n",
    "'''embed_model = HuggingFaceEmbeddings(\n",
    "    model_name=\"Xenova/text-embedding-ada-002\"\n",
    ")'''\n",
    "\n",
    "\n",
    "service_context = ServiceContext.from_defaults(embed_model=embed_model, llm=llm)\n",
    "\n",
    "# optionally set a global service context\n",
    "set_global_service_context(service_context)"
   ]
  },
  {
   "cell_type": "code",
   "execution_count": null,
   "metadata": {},
   "outputs": [],
   "source": [
    "documents = SimpleDirectoryReader(\"data\").load_data()\n",
    "index = VectorStoreIndex.from_documents(documents)\n",
    "\n",
    "query_engine = index.as_query_engine(service_context=service_context)"
   ]
  },
  {
   "cell_type": "code",
   "execution_count": null,
   "metadata": {},
   "outputs": [],
   "source": [
    "response = query_engine.query(\"What is this essay about?\")\n",
    "print(response)"
   ]
  },
  {
   "cell_type": "code",
   "execution_count": null,
   "metadata": {},
   "outputs": [],
   "source": [
    "from llama_index import VectorStoreIndex, SimpleDirectoryReader\n",
    "from llama_index.embeddings import OpenAIEmbedding\n",
    "from llama_index import ServiceContext, set_global_service_context\n",
    "\n",
    "from langchain.llms import Ollama\n",
    "\n",
    "llm = Ollama(model=\"llama2\")\n",
    "\n",
    "embed_model = OpenAIEmbedding()\n",
    "\n",
    "service_context = ServiceContext.from_defaults(embed_model=embed_model, llm=llm)\n",
    "\n",
    "# optionally set a global service context\n",
    "set_global_service_context(service_context)\n",
    "\n",
    "documents = SimpleDirectoryReader(\"data\").load_data()\n",
    "index = VectorStoreIndex.from_documents(documents)\n",
    "\n",
    "query_engine = index.as_query_engine(service_context=service_context)\n",
    "response = query_engine.query(\"When does Harsha wants to go to Manaslu?\")\n",
    "print(response)\n",
    "\n",
    "import logging\n",
    "import sys\n",
    "\n",
    "logging.basicConfig(stream=sys.stdout, level=logging.DEBUG)\n",
    "logging.getLogger().addHandler(logging.StreamHandler(stream=sys.stdout))"
   ]
  }
 ],
 "metadata": {
  "kernelspec": {
   "display_name": "Python 3 (ipykernel)",
   "language": "python",
   "name": "python3"
  },
  "language_info": {
   "codemirror_mode": {
    "name": "ipython",
    "version": 3
   },
   "file_extension": ".py",
   "mimetype": "text/x-python",
   "name": "python",
   "nbconvert_exporter": "python",
   "pygments_lexer": "ipython3",
   "version": "3.11.4"
  }
 },
 "nbformat": 4,
 "nbformat_minor": 5
}
